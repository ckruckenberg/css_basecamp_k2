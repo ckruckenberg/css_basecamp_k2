{
 "cells": [
  {
   "cell_type": "code",
   "execution_count": 2,
   "metadata": {},
   "outputs": [
    {
     "data": {
      "text/plain": [
       "3"
      ]
     },
     "execution_count": 2,
     "metadata": {},
     "output_type": "execute_result"
    }
   ],
   "source": [
    "#Cell 0 :) \n",
    "num_list = [1,2,3,4,5]\n",
    "num_list[2]"
   ]
  },
  {
   "cell_type": "code",
   "execution_count": 7,
   "metadata": {},
   "outputs": [
    {
     "data": {
      "text/plain": [
       "'of'"
      ]
     },
     "execution_count": 7,
     "metadata": {},
     "output_type": "execute_result"
    }
   ],
   "source": [
    "#CELL 1\n",
    "#list of strings\n",
    "string_list = [\"this\",\"is\",\"a\",\"list\",\"of\",\"strings\"]\n",
    "\n",
    "#retrieve string_list[-2]\n",
    "string_list[-2]"
   ]
  },
  {
   "cell_type": "code",
   "execution_count": null,
   "metadata": {},
   "outputs": [],
   "source": [
    "#Cell 2\n",
    "#declare an empty list\n",
    "empty_list = []"
   ]
  },
  {
   "cell_type": "code",
   "execution_count": 1,
   "metadata": {},
   "outputs": [],
   "source": [
    "#Cell 3\n",
    "#Create new list\n",
    "my_list = [1,2,5,9]\n"
   ]
  },
  {
   "cell_type": "code",
   "execution_count": 3,
   "metadata": {
    "scrolled": true
   },
   "outputs": [
    {
     "name": "stdout",
     "output_type": "stream",
     "text": [
      "[1, 2, 5, 9, 12, 12]\n"
     ]
    }
   ],
   "source": [
    "#Cell 4\n",
    "#append 12\n",
    "my_list.append(12)\n",
    "print(my_list)"
   ]
  },
  {
   "cell_type": "code",
   "execution_count": 5,
   "metadata": {},
   "outputs": [
    {
     "name": "stdout",
     "output_type": "stream",
     "text": [
      "[1, 2, 5, 9, 12]\n"
     ]
    }
   ],
   "source": [
    "#Cell 5\n",
    "#This is a better way to use append (in the same cell)\n",
    "my_list = [1,2,5,9]\n",
    "\n",
    "#append 12\n",
    "my_list.append(12)\n",
    "print(my_list)"
   ]
  },
  {
   "cell_type": "code",
   "execution_count": null,
   "metadata": {},
   "outputs": [],
   "source": [
    "#Cell 6\n",
    "#Declare string\n",
    "my_string = \"I'm a string!\"\n",
    "\n",
    "#Retrieve a character\n",
    "my_string[3]"
   ]
  },
  {
   "cell_type": "code",
   "execution_count": null,
   "metadata": {},
   "outputs": [],
   "source": [
    "#Cell 7\n",
    "#Retrieve a range of characters\n",
    "my_string[1:3]"
   ]
  },
  {
   "cell_type": "code",
   "execution_count": 1,
   "metadata": {},
   "outputs": [
    {
     "data": {
      "text/plain": [
       "['https:', '', 'realpython.com', 'python-lists-tuples', '']"
      ]
     },
     "execution_count": 1,
     "metadata": {},
     "output_type": "execute_result"
    }
   ],
   "source": [
    "#Cell 8\n",
    "#Declare a url\n",
    "my_url = \"https://realpython.com/python-lists-tuples/\"\n",
    "\n",
    "#split the url into a list by the '/' character\n",
    "my_url.split(\"/\")"
   ]
  },
  {
   "cell_type": "code",
   "execution_count": null,
   "metadata": {},
   "outputs": [],
   "source": [
    "#Cell 9\n",
    "#Declare a tuple of instructors\n",
    "instructors = [('Samantha', 'Anthropology', '16.0.05'),\n",
    "               ('Friedo', 'Sociology', '1.2.7'),\n",
    "               ('Ulf', 'Physics', 'Unknown')]\n",
    "\n",
    "#access second value of second tuple\n",
    "instructors[2][2]"
   ]
  },
  {
   "cell_type": "code",
   "execution_count": null,
   "metadata": {},
   "outputs": [],
   "source": [
    "#Cell 10\n",
    "#Declare a dictionary of instructors\n",
    "my_dictionary = {'Friedo':'Sociology', \n",
    "                'Samantha': 'Anthropology',\n",
    "                'Ulf':'Physics'}"
   ]
  },
  {
   "cell_type": "code",
   "execution_count": null,
   "metadata": {},
   "outputs": [],
   "source": [
    "#Cell 11\n",
    "#Retrieve Ulf's discipline\n",
    "my_dictionary['Ulf']"
   ]
  },
  {
   "cell_type": "code",
   "execution_count": 8,
   "metadata": {},
   "outputs": [
    {
     "name": "stdout",
     "output_type": "stream",
     "text": [
      "[('Samantha', 103), ('Friedo', 78), ('Ulf', 85)]\n",
      "{'Samantha': 103, 'Friedo': 78, 'Ulf': 85}\n"
     ]
    }
   ],
   "source": [
    "#Cell 12\n",
    "#Create lists\n",
    "keys = ['Samantha', 'Friedo', 'Ulf']\n",
    "ages = [103, 78, 85]\n",
    "\n",
    "#zip the lists together\n",
    "key_values = list(zip(keys, ages))\n",
    "\n",
    "#see the key value pairs\n",
    "print(key_values)\n",
    "\n",
    "#create the dictionary\n",
    "my_dictionary2 = dict(key_values)\n",
    "print (my_dictionary2)\n"
   ]
  },
  {
   "cell_type": "code",
   "execution_count": null,
   "metadata": {},
   "outputs": [],
   "source": []
  }
 ],
 "metadata": {
  "kernelspec": {
   "display_name": "Python 3",
   "language": "python",
   "name": "python3"
  },
  "language_info": {
   "codemirror_mode": {
    "name": "ipython",
    "version": 3
   },
   "file_extension": ".py",
   "mimetype": "text/x-python",
   "name": "python",
   "nbconvert_exporter": "python",
   "pygments_lexer": "ipython3",
   "version": "3.8.3"
  }
 },
 "nbformat": 4,
 "nbformat_minor": 2
}
