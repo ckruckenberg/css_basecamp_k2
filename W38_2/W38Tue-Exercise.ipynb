{
 "cells": [
  {
   "cell_type": "markdown",
   "metadata": {},
   "source": [
    "# Exercise W3D2: Pandas Preview and Data Ethics\n",
    "\n",
    "## 3.2.1 The SODAS Dataframe"
   ]
  },
  {
   "cell_type": "markdown",
   "metadata": {},
   "source": [
    "**Exercise** Run the two cells below to read in the SODAS dataset we created. Then, inspect the dataframe and create a markdown cell in which you respond to the following questions: \n",
    "\n",
    "1. What are the names of the postdoctoral researchers at SODAS?\n",
    "2. What do you think is the source for the last three columns of the dataframe?\n",
    "3. In what year was the most highly cited publication in the dataframe published?\n",
    "4. Three people in the dataframe are each authors on two publications listed in the dataframe. What are their names?\n",
    "5. Who are the three individuals who have had their Twitter account the longest and since when have they had them?"
   ]
  },
  {
   "cell_type": "code",
   "execution_count": null,
   "metadata": {},
   "outputs": [],
   "source": [
    "# Loading the pandas module\n",
    "import pandas as pd"
   ]
  },
  {
   "cell_type": "code",
   "execution_count": null,
   "metadata": {},
   "outputs": [],
   "source": [
    "# Loading the SODAS dataframe\n",
    "\n",
    "url = 'https://dl.dropboxusercontent.com/s/9war4suj1s5j1ah/sodas_people_twitter_scholar.csv?dl=1'\n",
    "\n",
    "sodas_people_df = pd.read_csv(url)"
   ]
  },
  {
   "cell_type": "markdown",
   "metadata": {},
   "source": [
    "## 3.2.2 Getting Data I - Downloading Data"
   ]
  },
  {
   "cell_type": "markdown",
   "metadata": {},
   "source": [
    "**Exercise** Browse the data sources we discussed and download one dataset you are interested in. Load it into a pandas DataFrame and inspect the dataframe. Create a markdown cell and describe the following.\n",
    "\n",
    "1. What information does your DataFrame contain?\n",
    "2. What is the source of your dataset?  Is there a direct link?\n",
    "3. Are there any striking or particularly interesting datapoints in your DataFrame? What are they?\n",
    "4. What research question could you answer with this data?\n",
    "5. Is there any other data you would like to combine with your DataFrame? Which additional data would you like to have?\n",
    "\n",
    "Some of the data sources we discussed are:\n",
    "\n",
    "- [Inter-university Consortium for Political and Social Research (ICPSR)](https://www.icpsr.umich.edu/icpsrweb/ICPSR/)\n",
    "- [GESIS database](https://search.gesis.org/research_data)\n",
    "- [Kaggle](https://www.kaggle.com/datasets)\n",
    "\n",
    "Note that all of thise require you to register. If you do not want to register anywhere, [Eurostat](https://ec.europa.eu/eurostat/web/main/home) provides a host of statistics about Europe and does not require sign up. For example, [here](https://ec.europa.eu/eurostat/estat-navtree-portlet-prod/BulkDownloadListing?file=data/tgs00007.tsv.gz) is a table with statistics on employment rates for age group 15-64 by sex at the regional level across Europe.\n",
    "\n",
    "Note that, to load your data into a pandas DataFrame, you will have to use the appropriate function for your data format, such as `read_excel` for an Excel file or `read_json` for a JSON file. You can find a list of all the different function and documentation on how to use them [here](https://pandas.pydata.org/pandas-docs/stable/reference/io.html)."
   ]
  },
  {
   "cell_type": "markdown",
   "metadata": {},
   "source": [
    "## 3.2.3 Data Ethics"
   ]
  },
  {
   "cell_type": "markdown",
   "metadata": {},
   "source": [
    "**Exercise** This activity requires you to familiarize yourself with a case study, discuss a set of questions in your group, and then share and discuss your responses in plenum.\n",
    "\n",
    "**Tasks and Suggested Schedule**\n",
    "\n",
    "1. Take _10 minutes_ to read [this case study](https://bdes.datasociety.net/wp-content/uploads/2016/10/Patreon-Case-Study.pdf) describing a data ethics issue encountered by two social data scientists.\n",
    "2. Discuss these four questions in your group for _20 minutes_ and take notes about your answers:\n",
    "\n",
    "    - Does the illegal nature of the data collection and the release of private data taint the data in the release that was already publicly available?\n",
    "    - Users of Patreon initially had an expectation of privacy, but that privacy no longer exists. Do researchers need to respect the intent or the reality? \n",
    "    - Researchers will nearly always claim that their research will have a net public benefit and thus their methods are justified. Who gets to decide if that is accurate in any given case?\n",
    "    - Would you personally use the Patreon data in this situation?\n",
    "    \n",
    "\n",
    "3. Reconvene as a large group and share the answers your group came up with. Do you all agree? On what do you disagree and why? _Approximately 15 minutes._\n",
    "\n",
    "**Notes**\n",
    "\n",
    "- Talking about ethics can be difficult for some people. Please keep an open mind, and remember that reasonable people can disagree on many of these topics.\n",
    "- This exercise is adopted from material developed by Matthew Salganik, Robin Lee, Ian Lundberg, Yo-Yo Chen, Janet Xu, and Simone Zhang for the [Summer Institutes in Computational Social Science](https://compsocialscience.github.io/summer-institute/)\n"
   ]
  },
  {
   "cell_type": "markdown",
   "metadata": {},
   "source": [
    "## 3.2.4 Creating the SDS Imagination"
   ]
  },
  {
   "cell_type": "markdown",
   "metadata": {},
   "source": [
    "**Exercise** A key ingredient for good Social Data Science is awareness of the data out there, what others are doing, and what others find interesting. This excercise is intended to provide a venue to build this awareness. \n",
    "\n",
    "For each group:\n",
    "\n",
    "1. Present the data you collected in [3.2.2 Getting Data I - Downloading Data](#3.2.2-Getting-Data-I---Downloading-Data) to the larger group touching on all five questions. _Approximately 5 minutes._\n",
    "2. Discuss the following prompts in the larger group: _Approximately 5 minutes._\n",
    "    \n",
    "    - Is the dataset suited to the proposed research questions? What are the strengths of the data for this purpose? \n",
    "    - What are potential shortcomings of the data? Are there alternative data sources without these shortcomings? What are they?\n",
    "    - Which _other_ research questions could be answered with the dataset? Would additional data be necessary? Which?\n",
    "    \n",
    "\n",
    "3. Repeat for each group. Take notes when your group is _not_ presenting."
   ]
  },
  {
   "cell_type": "markdown",
   "metadata": {},
   "source": [
    "## 3.2.5 Daily Reflections"
   ]
  },
  {
   "cell_type": "markdown",
   "metadata": {},
   "source": [
    "**Exercise** Take a moment to reflect on your learning experience today and take notes. You _can_ use these prompts to inspire your reflections: \n",
    "\n",
    "- What (if anything) did you take away from the lecture and exercise today? \n",
    "- What concepts, ideas, or topics are still unclear? \n",
    "- Are there any things you would have wanted to spend less or more time on? What are they?\n",
    "- Is there anything you have become inspired to follow up on from today's lecture and exercise? Anything you are looking forward to learning more about?"
   ]
  },
  {
   "cell_type": "markdown",
   "metadata": {},
   "source": [
    "## 3.2.6 _If You Have Time_ Follow Your Interests "
   ]
  },
  {
   "cell_type": "markdown",
   "metadata": {},
   "source": [
    "**Exercise** Think about the different data sources and datasets you have heard about in [3.2.4 Creating the SDS Imagination](#3.2.4-Creating-the-SDS-Imagination). Follow up to see if you can track down one of the alternative data sources discussed or find data relevant to one of the other research questions that seemed interesting to you. \n",
    "\n",
    "If you are successful, load the data into a pandas DataFrame and inspect them. If you do not find relevant data, take notes on what you tried, where you looked, and follow up with your group members to see if they have additional leads. \n",
    "\n",
    "Remember that there is an entire [Dataverse](https://dataverse.harvard.edu/) out there and recently even [Google has stepped into the game of cataloging publicly available data](https://datasetsearch.research.google.com/)."
   ]
  }
 ],
 "metadata": {
  "kernelspec": {
   "display_name": "Python 3",
   "language": "python",
   "name": "python3"
  },
  "language_info": {
   "codemirror_mode": {
    "name": "ipython",
    "version": 3
   },
   "file_extension": ".py",
   "mimetype": "text/x-python",
   "name": "python",
   "nbconvert_exporter": "python",
   "pygments_lexer": "ipython3",
   "version": "3.8.3"
  }
 },
 "nbformat": 4,
 "nbformat_minor": 4
}
