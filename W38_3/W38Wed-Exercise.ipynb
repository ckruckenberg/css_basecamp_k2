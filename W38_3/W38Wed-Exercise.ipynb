{
 "cells": [
  {
   "cell_type": "markdown",
   "metadata": {},
   "source": [
    "# Exercises: Variables and Operations\n",
    "**Wednesday, September 16, 2020**\n",
    "\n",
    "Welcome human, you have just been born into the world of programming. In this world, you can instruct computers to do very powerful things for you. But first, you must first learn to speak one of its many languages. *Python* is the *lingua franca* these days, for instructing computers how to do things with data. It is easier to write and understand than other languages because it does away with many nitty-gritty technicalities inherent to computer programming. **Python is a programming language built for humans**. It (mostly) lets you tell the computer *what* to do, not *how* to do it.\n",
    "\n",
    "This set of exercises is an introduction to the basic building blocks of programming in Python. **Before continuing I need you to read this motivation first**: When you were a baby you did not know what anything was. You had to learn that a chair is an ontological phenomenon and it's function is to be sat on (or stood on to change light bulbs). Learning how to code is to withdraw to the baby stage of learning. You have to open your mind and accept that you know very little. It is a painful feeling because not understanding and knowing makes us humans anxious. **But remember** that pain and anxiety while learning (especially mathematical and technical concepts) is normal, and everyone experiences it to some degree. I don't know why we were built this way, but we are. Yet, if you can endure the pain you will learn to code faster than you thought you could. And that is an **amazingly empowering feeling!**"
   ]
  },
  {
   "cell_type": "markdown",
   "metadata": {},
   "source": [
    "## Preparation for a bumpy road: Reading error messages"
   ]
  },
  {
   "cell_type": "markdown",
   "metadata": {},
   "source": [
    "Error messages... we need to talk about them. They look something like this:"
   ]
  },
  {
   "cell_type": "code",
   "execution_count": 2,
   "metadata": {
    "ExecuteTime": {
     "end_time": "2020-09-15T09:14:34.851944Z",
     "start_time": "2020-09-15T09:14:34.845623Z"
    }
   },
   "outputs": [
    {
     "ename": "TypeError",
     "evalue": "unsupported operand type(s) for +: 'int' and 'str'",
     "output_type": "error",
     "traceback": [
      "\u001b[0;31m---------------------------------------------------------------------------\u001b[0m",
      "\u001b[0;31mTypeError\u001b[0m                                 Traceback (most recent call last)",
      "\u001b[0;32m<ipython-input-2-db092cb74d2d>\u001b[0m in \u001b[0;36m<module>\u001b[0;34m\u001b[0m\n\u001b[0;32m----> 1\u001b[0;31m \u001b[0;36m1\u001b[0m \u001b[0;34m+\u001b[0m \u001b[0;34m\"2\"\u001b[0m\u001b[0;34m\u001b[0m\u001b[0;34m\u001b[0m\u001b[0m\n\u001b[0m",
      "\u001b[0;31mTypeError\u001b[0m: unsupported operand type(s) for +: 'int' and 'str'"
     ]
    }
   ],
   "source": [
    "1 + \"2\""
   ]
  },
  {
   "cell_type": "markdown",
   "metadata": {},
   "source": [
    "They are big and red, and scary, but we should treat them with patience and understanding, **because they are here to help**. Error messages signal that we have violated the laws of the Python universe; that we are trying to do something which is not meaningful, not possible, not allowed or not with correct syntax.\n",
    "\n",
    "You will encounter error messages **ALL. THE. TIME.** So get used to them, they're not going anywhere.\n",
    "\n",
    "**How do you read an error message?** The first thing you should read is **the last line**. In the above error, my trained eyes go straight to `TypeError: unsupported operand type(s) for +: 'int' and 'str'`. So should yours."
   ]
  },
  {
   "cell_type": "markdown",
   "metadata": {},
   "source": [
    "> **Exercise**: Read the last line of the above error message word by word. What is it actually saying? Can you explain to yourself what our angry-looking friend, the Python interpreter, is trying to tell us about our code?"
   ]
  },
  {
   "cell_type": "markdown",
   "metadata": {},
   "source": [
    "Above the last line there's an arrow. There may be multiple arrows if your code is long and complicated. Each arrow is pointing to a line in your code that breaks because of the error you made. All the stuff above the last line is called **the traceback**, because it tries to trace where in your code the source error is. Typically, to find the place where things went off the rails you should look at the **last arrow in the traceback**.\n",
    "\n",
    "Here is an example error with some traceback that you can follow. Note that I have to use **functions** to explain this. You haven't been introduced to these yet, but you will later in this notebook, so for now, relax (or skip ahead and do the section on functions if you feel like it)."
   ]
  },
  {
   "cell_type": "code",
   "execution_count": 92,
   "metadata": {
    "ExecuteTime": {
     "end_time": "2020-09-15T11:17:18.707553Z",
     "start_time": "2020-09-15T11:17:18.699644Z"
    }
   },
   "outputs": [
    {
     "ename": "NameError",
     "evalue": "name 'vel' is not defined",
     "output_type": "error",
     "traceback": [
      "\u001b[0;31m---------------------------------------------------------------------------\u001b[0m",
      "\u001b[0;31mNameError\u001b[0m                                 Traceback (most recent call last)",
      "\u001b[0;32m<ipython-input-92-813d244a1524>\u001b[0m in \u001b[0;36m<module>\u001b[0;34m\u001b[0m\n\u001b[1;32m      4\u001b[0m     \u001b[0;32mreturn\u001b[0m \u001b[0mvel\u001b[0m \u001b[0;34m*\u001b[0m \u001b[0;36m10\u001b[0m\u001b[0;34m\u001b[0m\u001b[0;34m\u001b[0m\u001b[0m\n\u001b[1;32m      5\u001b[0m \u001b[0;34m\u001b[0m\u001b[0m\n\u001b[0;32m----> 6\u001b[0;31m \u001b[0mfunc1\u001b[0m\u001b[0;34m(\u001b[0m\u001b[0;36m10\u001b[0m\u001b[0;34m)\u001b[0m\u001b[0;34m\u001b[0m\u001b[0;34m\u001b[0m\u001b[0m\n\u001b[0m",
      "\u001b[0;32m<ipython-input-92-813d244a1524>\u001b[0m in \u001b[0;36mfunc1\u001b[0;34m(val)\u001b[0m\n\u001b[1;32m      2\u001b[0m \u001b[0;34m\u001b[0m\u001b[0m\n\u001b[1;32m      3\u001b[0m \u001b[0;32mdef\u001b[0m \u001b[0mfunc1\u001b[0m\u001b[0;34m(\u001b[0m\u001b[0mval\u001b[0m\u001b[0;34m)\u001b[0m\u001b[0;34m:\u001b[0m\u001b[0;34m\u001b[0m\u001b[0;34m\u001b[0m\u001b[0m\n\u001b[0;32m----> 4\u001b[0;31m     \u001b[0;32mreturn\u001b[0m \u001b[0mvel\u001b[0m \u001b[0;34m*\u001b[0m \u001b[0;36m10\u001b[0m\u001b[0;34m\u001b[0m\u001b[0;34m\u001b[0m\u001b[0m\n\u001b[0m\u001b[1;32m      5\u001b[0m \u001b[0;34m\u001b[0m\u001b[0m\n\u001b[1;32m      6\u001b[0m \u001b[0mfunc1\u001b[0m\u001b[0;34m(\u001b[0m\u001b[0;36m10\u001b[0m\u001b[0;34m)\u001b[0m\u001b[0;34m\u001b[0m\u001b[0;34m\u001b[0m\u001b[0m\n",
      "\u001b[0;31mNameError\u001b[0m: name 'vel' is not defined"
     ]
    }
   ],
   "source": [
    "import random\n",
    "\n",
    "def func1(val):\n",
    "    return vel * 10\n",
    "\n",
    "func1(10)"
   ]
  },
  {
   "cell_type": "markdown",
   "metadata": {},
   "source": [
    "Here you see that there are two arrows in the traceback pointing to line 6 and 4 respectively (to display line numbers enter command mode and hit the `l` key)."
   ]
  },
  {
   "cell_type": "markdown",
   "metadata": {},
   "source": [
    "> **Exercise**: Explain what goes wrong here. What is a `NameError`? Starting from the top, what is the traceback telling you?"
   ]
  },
  {
   "cell_type": "markdown",
   "metadata": {},
   "source": [
    "> **Answer:** A name error here shows that a variable is used that has not been difined before. Here this is the varialbe vel. Could it be that here there is a simple spelling mistake where vel acutallly should be val? "
   ]
  },
  {
   "cell_type": "markdown",
   "metadata": {},
   "source": [
    "Ok, move along now. This was just a small primer for what's to come, and you will practice the skill of debugging as you move along. In no time you will be a master debugger!"
   ]
  },
  {
   "cell_type": "markdown",
   "metadata": {},
   "source": [
    "## Variables"
   ]
  },
  {
   "cell_type": "markdown",
   "metadata": {},
   "source": [
    "In human languages we have this convenient habit of naming objects that exist in the real world. For example \"World War II\", or \"Princess Diana\" are both names that concisely refer to rich subjects.\n",
    "\n",
    "Similarly, in programming we can name arbitrary things, however we like. We call these names that we, the individual programmers, create inside our scripts **variables**. \n",
    "For example I could create a variable called `world_war_II` and store inside it the first 1000 characters of the Wikipedia page for [World War II](https://en.wikipedia.org/wiki/World_War_II)."
   ]
  },
  {
   "cell_type": "code",
   "execution_count": 93,
   "metadata": {
    "ExecuteTime": {
     "end_time": "2020-09-14T11:43:27.255667Z",
     "start_time": "2020-09-14T11:43:26.835647Z"
    }
   },
   "outputs": [],
   "source": [
    "import requests\n",
    "world_war_II = requests.get(\"https://en.wikipedia.org/wiki/World_War_II\").text[:1000]"
   ]
  },
  {
   "cell_type": "code",
   "execution_count": 94,
   "metadata": {},
   "outputs": [
    {
     "data": {
      "text/plain": [
       "1000"
      ]
     },
     "execution_count": 94,
     "metadata": {},
     "output_type": "execute_result"
    }
   ],
   "source": [
    "len(world_war_II)"
   ]
  },
  {
   "cell_type": "code",
   "execution_count": 95,
   "metadata": {
    "scrolled": true
   },
   "outputs": [
    {
     "name": "stdout",
     "output_type": "stream",
     "text": [
      "<!DOCTYPE html>\n",
      "<html class=\"client-nojs\" lang=\"en\" dir=\"ltr\">\n",
      "<head>\n",
      "<meta charset=\"UTF-8\"/>\n",
      "<title>World War II - Wikipedia</title>\n",
      "<script>document.documentElement.className=\"client-js\";RLCONF={\"wgBreakFrames\":!1,\"wgSeparatorTransformTable\":[\"\",\"\"],\"wgDigitTransformTable\":[\"\",\"\"],\"wgDefaultDateFormat\":\"dmy\",\"wgMonthNames\":[\"\",\"January\",\"February\",\"March\",\"April\",\"May\",\"June\",\"July\",\"August\",\"September\",\"October\",\"November\",\"December\"],\"wgRequestId\":\"3d4681ea-8cb4-4258-a83b-6f0be9940262\",\"wgCSPNonce\":!1,\"wgCanonicalNamespace\":\"\",\"wgCanonicalSpecialPageName\":!1,\"wgNamespaceNumber\":0,\"wgPageName\":\"World_War_II\",\"wgTitle\":\"World War II\",\"wgCurRevisionId\":979027017,\"wgRevisionId\":979027017,\"wgArticleId\":32927,\"wgIsArticle\":!0,\"wgIsRedirect\":!1,\"wgAction\":\"view\",\"wgUserName\":null,\"wgUserGroups\":[\"*\"],\"wgCategories\":[\"CS1 maint: ref=harv\",\"Webarchive template wayback links\",\"Harv and Sfn no-target errors\",\"CS1 maint: archived copy as title\",\"CS1 Polish-language sources (pl)\",\"Wikipedia ind\n"
     ]
    }
   ],
   "source": [
    "print(world_war_II)"
   ]
  },
  {
   "cell_type": "code",
   "execution_count": 96,
   "metadata": {},
   "outputs": [
    {
     "data": {
      "text/plain": [
       "str"
      ]
     },
     "execution_count": 96,
     "metadata": {},
     "output_type": "execute_result"
    }
   ],
   "source": [
    "type(world_war_II)"
   ]
  },
  {
   "cell_type": "markdown",
   "metadata": {},
   "source": [
    "> **Problem 1**: (1) Run the code cell above and print the variable in the cell below. If the printout looks weird to you it is because it is something called HTML markup. You will learn more about this later, but it is essentially the syntax that programmers use to write websites. (2) What do you think the `[:1000]` at the end of the line does. (3) Also explain what the `import requests` line does."
   ]
  },
  {
   "cell_type": "markdown",
   "metadata": {},
   "source": [
    "> **Answer:**  \n",
    "> It seems that the variable world_war_II is a string. The request [:1000] tells the mashine only to import the first 1000 objects.\n",
    "> The import request line installes a package that includes the in the next line used request.get command. "
   ]
  },
  {
   "cell_type": "markdown",
   "metadata": {},
   "source": [
    "So now you understand that variables are these little things we store bigger things inside of, so we can easily refer to them. Convenient? But what can we store in variables? The answer is *anything*! For example we could put all of the stuff I just wrote into a variable like this:"
   ]
  },
  {
   "cell_type": "code",
   "execution_count": 97,
   "metadata": {
    "ExecuteTime": {
     "end_time": "2020-09-14T11:51:34.762303Z",
     "start_time": "2020-09-14T11:51:34.760136Z"
    }
   },
   "outputs": [],
   "source": [
    "the_stuff_i_just_wrote = \"So now you understand that variables are these little things we store bigger things inside of, so we can easily refer to them. Convenient? But what can we store in variables? The answer is anything! For example we could put all of the stuff I just wrote into a variable like this:\""
   ]
  },
  {
   "cell_type": "markdown",
   "metadata": {},
   "source": [
    "And print it again:"
   ]
  },
  {
   "cell_type": "code",
   "execution_count": 98,
   "metadata": {
    "ExecuteTime": {
     "end_time": "2020-09-14T11:51:49.355270Z",
     "start_time": "2020-09-14T11:51:49.352519Z"
    }
   },
   "outputs": [
    {
     "name": "stdout",
     "output_type": "stream",
     "text": [
      "So now you understand that variables are these little things we store bigger things inside of, so we can easily refer to them. Convenient? But what can we store in variables? The answer is anything! For example we could put all of the stuff I just wrote into a variable like this:\n"
     ]
    }
   ],
   "source": [
    "print(the_stuff_i_just_wrote)"
   ]
  },
  {
   "cell_type": "markdown",
   "metadata": {
    "ExecuteTime": {
     "end_time": "2020-09-14T11:52:06.562549Z",
     "start_time": "2020-09-14T11:52:06.559630Z"
    }
   },
   "source": [
    "We can also put a variable inside a variable, maybe if we wanted it to have a shorter name:"
   ]
  },
  {
   "cell_type": "code",
   "execution_count": 99,
   "metadata": {
    "ExecuteTime": {
     "end_time": "2020-09-14T11:52:36.315468Z",
     "start_time": "2020-09-14T11:52:36.313354Z"
    }
   },
   "outputs": [],
   "source": [
    "stuff_wrote = the_stuff_i_just_wrote"
   ]
  },
  {
   "cell_type": "markdown",
   "metadata": {},
   "source": [
    "Go ahead and assert that the two variables contain the same text."
   ]
  },
  {
   "cell_type": "markdown",
   "metadata": {},
   "source": [
    "Finally, variables can be overwritten. So if we wanted to put something else in `stuff_wrote`, we could just do that:"
   ]
  },
  {
   "cell_type": "code",
   "execution_count": 100,
   "metadata": {
    "ExecuteTime": {
     "end_time": "2020-09-15T05:21:12.697016Z",
     "start_time": "2020-09-15T05:21:12.693611Z"
    }
   },
   "outputs": [],
   "source": [
    "stuff_wrote = \"Finally, variables can be overwritten. So if we wanted to put something else in stuff_wrote, we could just do that:\""
   ]
  },
  {
   "cell_type": "markdown",
   "metadata": {},
   "source": [
    "It works this way regardless of what type of data you put into a variable. Here is an example where I first assign a number to a variable, then update that number."
   ]
  },
  {
   "cell_type": "code",
   "execution_count": 101,
   "metadata": {},
   "outputs": [
    {
     "name": "stdout",
     "output_type": "stream",
     "text": [
      "10\n",
      "12\n"
     ]
    }
   ],
   "source": [
    "# first assign a number to the variable\n",
    "my_number = 10\n",
    "print(my_number)\n",
    "\n",
    "# then increment the variable\n",
    "my_number = my_number + 2\n",
    "print(my_number)"
   ]
  },
  {
   "cell_type": "markdown",
   "metadata": {},
   "source": [
    "Run the cell, maybe try to edit things and see if you can get comfortable with this idea of variable assigning and reassigning."
   ]
  },
  {
   "cell_type": "markdown",
   "metadata": {},
   "source": [
    "> **Reflection**: Explain to your neighbor (or yourself) what a variable is and how it can be used. Why do variables exist in the first place? What happens if you overwrite one? Why would you overwrite an existing variable?"
   ]
  },
  {
   "cell_type": "markdown",
   "metadata": {},
   "source": [
    "> **Answer:** A varialbe is some type of object (list, integer etc.) stored in a name. This name can be used as a representitiave of said object. Variables make it easier to work as instead of for example typing the same list everytime it is now possible to just use the variable name. When you overwrite a variable you are changing the object that the varaible is staning for. For example extending a list by one item. This is practicle because for one it make it possibel to work with varibels also it is easier to change them then just creating a new one everytime. "
   ]
  },
  {
   "cell_type": "markdown",
   "metadata": {},
   "source": [
    "## Types, objects, properties and methods"
   ]
  },
  {
   "cell_type": "markdown",
   "metadata": {},
   "source": [
    "Bear with me in this section, as I introduce **four very important new words** to your programming vocaulary: **types**, **objects**, **properties** and **methods**. It will cost you some concentration getting these under your skin, but I promise that it is a worthwhile investment to lay the first bricks correctly."
   ]
  },
  {
   "cell_type": "markdown",
   "metadata": {},
   "source": [
    "### Types"
   ]
  },
  {
   "cell_type": "markdown",
   "metadata": {},
   "source": [
    "In the real world we have ontological phenomena like \"a chair\" or \"a table\". These are not specific things (so not my office chair that I use every day) but rather *types* of things that can vary from instance to instance. In Python the analog to this is conveniently called **types**. Everything in Python is of a certain type. Here are some common types that you will encounter again and again:\n",
    "* `int`: whole numbers. Example: `0`, `1`, `2`, `9999` and `-17`\n",
    "* `float`: numbers with decimal points. Example: `-17.0`, `0.001`, `1e-7`, and `9.999`\n",
    "* `str`: anything encapsulated within a pair of `\"\"`s or `''`s. Example: `\"So now you understand...\"`, `'lolleper'`.\n",
    "* `list`: a list of anything. Example: `[0, 1, 2, 2]`, `['lolleper', 0, 0, -17]`\n",
    "* `set`: similar to a list but only keeps one copy of each item. Example: `{0, 1, 2}`, `{'lolleper', 0, -17}`\n",
    "* `bool`: a Boolean. Basically a value that can only either be `True` or `False`. It will become apparant why `bool`s are useful when we learn about `if` statements."
   ]
  },
  {
   "cell_type": "markdown",
   "metadata": {},
   "source": [
    "> **Problem 2:** Create an instance each of the above types. Store the instance in a variable (you choose the name) and print it. Also print its type. Describe, in brief, what practical use each type of object could have. Example:"
   ]
  },
  {
   "cell_type": "code",
   "execution_count": 102,
   "metadata": {
    "ExecuteTime": {
     "end_time": "2020-09-14T12:18:39.623264Z",
     "start_time": "2020-09-14T12:18:39.620206Z"
    },
    "scrolled": true
   },
   "outputs": [
    {
     "name": "stdout",
     "output_type": "stream",
     "text": [
      "808017424794512875886459904961710757005754368000000000\n",
      "<class 'int'>\n"
     ]
    }
   ],
   "source": [
    "my_favorite_number = 808017424794512875886459904961710757005754368000000000\n",
    "print(my_favorite_number)\n",
    "print(type(my_favorite_number))"
   ]
  },
  {
   "cell_type": "markdown",
   "metadata": {},
   "source": [
    "#### Integer"
   ]
  },
  {
   "cell_type": "code",
   "execution_count": 103,
   "metadata": {},
   "outputs": [
    {
     "name": "stdout",
     "output_type": "stream",
     "text": [
      "34\n",
      "<class 'int'>\n"
     ]
    }
   ],
   "source": [
    "number_of_students = 34\n",
    "print(number_of_students)\n",
    "print(type(number_of_students))"
   ]
  },
  {
   "cell_type": "markdown",
   "metadata": {},
   "source": [
    "#### Float"
   ]
  },
  {
   "cell_type": "code",
   "execution_count": 104,
   "metadata": {},
   "outputs": [
    {
     "name": "stdout",
     "output_type": "stream",
     "text": [
      "0.543\n",
      "<class 'float'>\n"
     ]
    }
   ],
   "source": [
    "this_is_float = 0.543\n",
    "print(this_is_float)\n",
    "print(type(this_is_float))"
   ]
  },
  {
   "cell_type": "markdown",
   "metadata": {},
   "source": [
    "#### Strings"
   ]
  },
  {
   "cell_type": "code",
   "execution_count": 105,
   "metadata": {},
   "outputs": [
    {
     "name": "stdout",
     "output_type": "stream",
     "text": [
      "Thank you for the nice introduction text! Really encouraging\n",
      "<class 'str'>\n"
     ]
    }
   ],
   "source": [
    "thank_you = \"Thank you for the nice introduction text! Really encouraging\"\n",
    "print(thank_you)\n",
    "print(type(thank_you))"
   ]
  },
  {
   "cell_type": "markdown",
   "metadata": {},
   "source": [
    "#### Lists"
   ]
  },
  {
   "cell_type": "code",
   "execution_count": 106,
   "metadata": {
    "scrolled": true
   },
   "outputs": [
    {
     "name": "stdout",
     "output_type": "stream",
     "text": [
      "['get coffee', 'at least', 3, 'cups', 'shower', 'go to uni']\n",
      "<class 'list'>\n"
     ]
    }
   ],
   "source": [
    "to_do_list = [\"get coffee\", \"at least\", 3, \"cups\", \"shower\", \"go to uni\"]\n",
    "print(to_do_list)\n",
    "print(type(to_do_list))"
   ]
  },
  {
   "cell_type": "markdown",
   "metadata": {},
   "source": [
    "#### Sets"
   ]
  },
  {
   "cell_type": "code",
   "execution_count": 107,
   "metadata": {},
   "outputs": [
    {
     "name": "stdout",
     "output_type": "stream",
     "text": [
      "['get coffe', True, 'at least', 9, 'cups']\n",
      "<class 'list'>\n"
     ]
    }
   ],
   "source": [
    "set_of_to_dos = [\"get coffe\", True, \"at least\", 9, \"cups\"]\n",
    "print(set_of_to_dos)\n",
    "print(type(set_of_to_dos))"
   ]
  },
  {
   "cell_type": "markdown",
   "metadata": {},
   "source": [
    "#### Boolean"
   ]
  },
  {
   "cell_type": "code",
   "execution_count": 108,
   "metadata": {},
   "outputs": [
    {
     "name": "stdout",
     "output_type": "stream",
     "text": [
      "True\n",
      "<class 'bool'>\n"
     ]
    }
   ],
   "source": [
    "exmaple_boolean = True\n",
    "print(exmaple_boolean)\n",
    "print(type(exmaple_boolean))"
   ]
  },
  {
   "cell_type": "markdown",
   "metadata": {},
   "source": [
    "### Objects, properties and methods"
   ]
  },
  {
   "cell_type": "markdown",
   "metadata": {},
   "source": [
    "An *instance* of some type (like the instance `-17` which is of the type `int`) is called an **object**. Objects have **properties** and **methods**. A real world analog here, could be that an instance of the chair *type* is a physical *object* that has methods (i.e. functions) such as \"to be sat on\", \"stood on\" or \"broken in frustration\"; as well as *properties* like their dimensions, weight and building material.\n",
    "\n",
    "If you want to look up what the properties and methods of an object (i.e. an instance of a type) is, you simply add a `.` after the instance and hit the `tab` key, then you get a list to select from."
   ]
  },
  {
   "cell_type": "markdown",
   "metadata": {},
   "source": [
    "> **Problem 3:** What is the first suggested method/property that you get when looking up properties and methods for an instance of an integer?"
   ]
  },
  {
   "cell_type": "markdown",
   "metadata": {},
   "source": [
    "> **Answer:** The first suggested method for an integer is int.as_integer_ratio."
   ]
  },
  {
   "cell_type": "markdown",
   "metadata": {},
   "source": [
    "Let's try using what we have learned for something somewhat useful. `list`s are very useful in Python. Later you will learn about `for` loops, and then the following will feel a bit more useful, but for now you should just accept it at  face value. Painful I know, but bear with me."
   ]
  },
  {
   "cell_type": "markdown",
   "metadata": {},
   "source": [
    "> **Problem 4:** Below I have created an empty list called `fill_me_up`. Your job now, is to use the `append` **method** to turn it into a list with four integers inside, namely `[0, 1, 2, 3]`."
   ]
  },
  {
   "cell_type": "code",
   "execution_count": 109,
   "metadata": {
    "ExecuteTime": {
     "end_time": "2020-09-14T12:40:21.292738Z",
     "start_time": "2020-09-14T12:40:21.290508Z"
    }
   },
   "outputs": [
    {
     "name": "stdout",
     "output_type": "stream",
     "text": [
      "[0, 1, 2, 3]\n"
     ]
    }
   ],
   "source": [
    "fill_me_up = []\n",
    "\n",
    "fill_me_up.append(0)\n",
    "fill_me_up.append(1)\n",
    "fill_me_up.append(2)\n",
    "fill_me_up.append(3)\n",
    "\n",
    "print(fill_me_up)\n"
   ]
  },
  {
   "cell_type": "markdown",
   "metadata": {},
   "source": [
    "> **Reflection**: Discuss what you learned in this section with your neighbor (or explain aloud to yourself). What is the connection between types, objects, properties and methods? What is the difference between a property and a method? **Do not proceed before you are comfortable explaining these things.**"
   ]
  },
  {
   "cell_type": "markdown",
   "metadata": {},
   "source": [
    ">**Answer:** I learnd that every obejct has a type (int, bol, list, str ...) different proberties (also attributes) for example it´s lenght or name and finally that every object also have methods (functions) that are diffent depening on of what type object is. "
   ]
  },
  {
   "cell_type": "markdown",
   "metadata": {},
   "source": [
    "## Operations with basic types"
   ]
  },
  {
   "cell_type": "markdown",
   "metadata": {},
   "source": [
    "What can you do with numbers (`int`s and `float`s)? You add them! Subtract, divide, multiply, exponentiate and so on. What about `str`s? Well, you can concatenate them (stick them together, basically), chop them up, reverse them and more. How about `list`s, `set`s and `bool`s? That's what you will learn in this section."
   ]
  },
  {
   "cell_type": "markdown",
   "metadata": {},
   "source": [
    "### Numbers"
   ]
  },
  {
   "cell_type": "markdown",
   "metadata": {},
   "source": [
    "Recall that there are two basic types of numbers in Python: `int`s for whole numbers and `floats` for decimal point numbers."
   ]
  },
  {
   "cell_type": "markdown",
   "metadata": {},
   "source": [
    "> **Problem 5:** Below, show how to (1) add two numbers, (2) subtract, (3) multiply and (4) divide."
   ]
  },
  {
   "cell_type": "code",
   "execution_count": 110,
   "metadata": {},
   "outputs": [
    {
     "data": {
      "text/plain": [
       "2"
      ]
     },
     "execution_count": 110,
     "metadata": {},
     "output_type": "execute_result"
    }
   ],
   "source": [
    "1+1"
   ]
  },
  {
   "cell_type": "code",
   "execution_count": 111,
   "metadata": {},
   "outputs": [
    {
     "data": {
      "text/plain": [
       "0"
      ]
     },
     "execution_count": 111,
     "metadata": {},
     "output_type": "execute_result"
    }
   ],
   "source": [
    "1-1"
   ]
  },
  {
   "cell_type": "code",
   "execution_count": 112,
   "metadata": {},
   "outputs": [
    {
     "data": {
      "text/plain": [
       "20"
      ]
     },
     "execution_count": 112,
     "metadata": {},
     "output_type": "execute_result"
    }
   ],
   "source": [
    "5*4"
   ]
  },
  {
   "cell_type": "code",
   "execution_count": 113,
   "metadata": {},
   "outputs": [
    {
     "data": {
      "text/plain": [
       "2.5"
      ]
     },
     "execution_count": 113,
     "metadata": {},
     "output_type": "execute_result"
    }
   ],
   "source": [
    "5/2"
   ]
  },
  {
   "cell_type": "markdown",
   "metadata": {},
   "source": [
    "> **Problem 6:** What happens if you do algebraic operations (add, subtract, etc.) between an `int` and a `float`? What type does the resulting value have?"
   ]
  },
  {
   "cell_type": "code",
   "execution_count": 114,
   "metadata": {
    "scrolled": true
   },
   "outputs": [
    {
     "data": {
      "text/plain": [
       "1.0"
      ]
     },
     "execution_count": 114,
     "metadata": {},
     "output_type": "execute_result"
    }
   ],
   "source": [
    "3.0 /3"
   ]
  },
  {
   "cell_type": "code",
   "execution_count": 115,
   "metadata": {},
   "outputs": [
    {
     "data": {
      "text/plain": [
       "1.9"
      ]
     },
     "execution_count": 115,
     "metadata": {},
     "output_type": "execute_result"
    }
   ],
   "source": [
    "4 - 2.1"
   ]
  },
  {
   "cell_type": "code",
   "execution_count": 116,
   "metadata": {},
   "outputs": [
    {
     "data": {
      "text/plain": [
       "15.0"
      ]
     },
     "execution_count": 116,
     "metadata": {},
     "output_type": "execute_result"
    }
   ],
   "source": [
    "5 * 3.0"
   ]
  },
  {
   "cell_type": "markdown",
   "metadata": {},
   "source": [
    "> The algebraic will always give back the more \"detailed\" result.\n"
   ]
  },
  {
   "cell_type": "markdown",
   "metadata": {},
   "source": [
    "So you can add, subtract, divide and multiply. But there are other exotic operations you can with numbers that sometimes become useful:\n",
    "* `**`: raise number to higher power. Example `10**2` evaluates to `100`.\n",
    "* `%`: the modulus operator! This is a cool one. Tells you \"what is left after division\". Example `10 % 3` evaluates to `1`. Think about why.\n",
    "* `//`: integer division. This type of division results in an `int`. For example `10 // 3` evaluates to `3`, not `3.33`."
   ]
  },
  {
   "cell_type": "markdown",
   "metadata": {},
   "source": [
    "> **Problem 7:** Show by creating your own examples that you understand what the three above operators do."
   ]
  },
  {
   "cell_type": "code",
   "execution_count": 117,
   "metadata": {},
   "outputs": [
    {
     "data": {
      "text/plain": [
       "9"
      ]
     },
     "execution_count": 117,
     "metadata": {},
     "output_type": "execute_result"
    }
   ],
   "source": [
    "3 ** 2"
   ]
  },
  {
   "cell_type": "code",
   "execution_count": 118,
   "metadata": {},
   "outputs": [
    {
     "data": {
      "text/plain": [
       "1"
      ]
     },
     "execution_count": 118,
     "metadata": {},
     "output_type": "execute_result"
    }
   ],
   "source": [
    "7 % 3"
   ]
  },
  {
   "cell_type": "code",
   "execution_count": 119,
   "metadata": {},
   "outputs": [
    {
     "data": {
      "text/plain": [
       "2"
      ]
     },
     "execution_count": 119,
     "metadata": {},
     "output_type": "execute_result"
    }
   ],
   "source": [
    "7 // 3"
   ]
  },
  {
   "cell_type": "markdown",
   "metadata": {},
   "source": [
    "### Strings"
   ]
  },
  {
   "cell_type": "markdown",
   "metadata": {},
   "source": [
    "These are our good old `str` type objects. In Python you can turn almost anything into a `str` by simply wrapping the `str` function around it. Example: `str(10)` would evaluate to `\"10\"`."
   ]
  },
  {
   "cell_type": "markdown",
   "metadata": {},
   "source": [
    "> **Problem 8:** In the example below, explain what happens. Before you run the code, think about what `print(string1)` would yield."
   ]
  },
  {
   "cell_type": "markdown",
   "metadata": {},
   "source": [
    "> **Answer:** Print string will show the follwoing text: \"This is the first part of the string. This is the second part of the string.\""
   ]
  },
  {
   "cell_type": "code",
   "execution_count": 120,
   "metadata": {
    "ExecuteTime": {
     "end_time": "2020-09-15T08:09:48.827913Z",
     "start_time": "2020-09-15T08:09:48.825545Z"
    }
   },
   "outputs": [
    {
     "name": "stdout",
     "output_type": "stream",
     "text": [
      "This is the first part of the string. This is the second part of the string.\n"
     ]
    }
   ],
   "source": [
    "string1 = \"This is the first part of the string.\"\n",
    "string1 = string1 + \" This is the second part of the string.\"\n",
    "print(string1)"
   ]
  },
  {
   "cell_type": "markdown",
   "metadata": {},
   "source": [
    "> **Problem 9**: Now you understand that you can add strings! Convenient, but what about subtracting, multiplying and dividing? Is that possible, or meaningful even?"
   ]
  },
  {
   "cell_type": "markdown",
   "metadata": {},
   "source": [
    "Remember ages ago (at the start of this exercise set) when you loaded the World War II Wikipedia page? That was a string you were loading into a variable. We cut the string short to the first 1000 characters by putting a little `[:1000]` at the end of it (otherwise it would have been to big to print). What little thing is something called **slicing**, and it's a very common operation used on `str`s and `list`s."
   ]
  },
  {
   "cell_type": "markdown",
   "metadata": {},
   "source": [
    "> **Problem 10:** Below are some examples of slicing. Above each example, write a short comment that explains what the slicing operation is doing (e.g. \"take the first 10 characters\", \"take the 10 last character\", etc.)"
   ]
  },
  {
   "cell_type": "code",
   "execution_count": 121,
   "metadata": {
    "ExecuteTime": {
     "end_time": "2020-09-15T06:54:57.038467Z",
     "start_time": "2020-09-15T06:54:56.413101Z"
    }
   },
   "outputs": [
    {
     "name": "stdout",
     "output_type": "stream",
     "text": [
      "This is th\n"
     ]
    }
   ],
   "source": [
    "print(string1[:10])"
   ]
  },
  {
   "cell_type": "markdown",
   "metadata": {},
   "source": [
    "> The fuction slices the first characters form the string."
   ]
  },
  {
   "cell_type": "code",
   "execution_count": 122,
   "metadata": {},
   "outputs": [
    {
     "name": "stdout",
     "output_type": "stream",
     "text": [
      "e first part of the string. This is the second part of the string.\n"
     ]
    }
   ],
   "source": [
    "print(string1[10:])"
   ]
  },
  {
   "cell_type": "markdown",
   "metadata": {},
   "source": [
    "> The fuction prints (slices) the string from the 10th to the end of the string. "
   ]
  },
  {
   "cell_type": "code",
   "execution_count": 123,
   "metadata": {},
   "outputs": [
    {
     "name": "stdout",
     "output_type": "stream",
     "text": [
      "e first pa\n"
     ]
    }
   ],
   "source": [
    "print(string1[10:20])"
   ]
  },
  {
   "cell_type": "markdown",
   "metadata": {},
   "source": [
    "> The function prints (slices) the characters of the string from the 10th character to the 20th character."
   ]
  },
  {
   "cell_type": "code",
   "execution_count": 124,
   "metadata": {},
   "outputs": [
    {
     "name": "stdout",
     "output_type": "stream",
     "text": [
      "e first part of the string. This is the second part of t\n"
     ]
    },
    {
     "data": {
      "text/plain": [
       "76"
      ]
     },
     "execution_count": 124,
     "metadata": {},
     "output_type": "execute_result"
    }
   ],
   "source": [
    "print(string1[10:-10])\n",
    "len(string1)"
   ]
  },
  {
   "cell_type": "markdown",
   "metadata": {},
   "source": [
    "> The function prints (slices) the string from the 10th character to the 10th last chracter (66th character)"
   ]
  },
  {
   "cell_type": "markdown",
   "metadata": {},
   "source": [
    "> **Bonus**: Check out what other methods you can use on a `str` type object. Try some of them out and explain what they do."
   ]
  },
  {
   "cell_type": "code",
   "execution_count": 125,
   "metadata": {},
   "outputs": [
    {
     "name": "stdout",
     "output_type": "stream",
     "text": [
      "<built-in method upper of str object at 0x7fe45db7d130>\n",
      "THIS IS THE FIRST PART OF THE STRING. THIS IS THE SECOND PART OF THE STRING.\n"
     ]
    }
   ],
   "source": [
    "string1.upper()\n",
    "\n",
    "print(string1.upper)\n",
    "\n",
    "print(string1.upper())"
   ]
  },
  {
   "cell_type": "markdown",
   "metadata": {},
   "source": [
    "> Writing everything in capital letters! Lesson Learned: If a method is printed without the brackeds behind the Python interpreter is giving you back a description of the function object and not applies the function. But if you instead do print with brackets string1.upper() it will print the result of applying the function to phrase. Like most things in Python, functions are objects."
   ]
  },
  {
   "cell_type": "code",
   "execution_count": 126,
   "metadata": {},
   "outputs": [
    {
     "data": {
      "text/plain": [
       "'his is the first part of the string. This is the second part of the string.'"
      ]
     },
     "execution_count": 126,
     "metadata": {},
     "output_type": "execute_result"
    }
   ],
   "source": [
    "string1.strip(\"T\")"
   ]
  },
  {
   "cell_type": "markdown",
   "metadata": {},
   "source": [
    "> Function strips T from the string! Argument in the fuction must be defined as a string as well"
   ]
  },
  {
   "cell_type": "code",
   "execution_count": 127,
   "metadata": {},
   "outputs": [
    {
     "name": "stdout",
     "output_type": "stream",
     "text": [
      "['This', 'is', 'the', 'first', 'part', 'of', 'the', 'string.', 'This', 'is', 'the', 'second', 'part', 'of', 'the', 'string.']\n"
     ]
    }
   ],
   "source": [
    "seperated_string1 = string1.rsplit(\" \")\n",
    "print(seperated_string1)"
   ]
  },
  {
   "cell_type": "code",
   "execution_count": 128,
   "metadata": {},
   "outputs": [
    {
     "data": {
      "text/plain": [
       "list"
      ]
     },
     "execution_count": 128,
     "metadata": {},
     "output_type": "execute_result"
    }
   ],
   "source": [
    "type(seperated_string1)"
   ]
  },
  {
   "cell_type": "code",
   "execution_count": 129,
   "metadata": {},
   "outputs": [
    {
     "name": "stdout",
     "output_type": "stream",
     "text": [
      "['This', 'is', 'the']\n"
     ]
    }
   ],
   "source": [
    "first_three_words_string1 = seperated_string1[:3]\n",
    "print(first_three_words_string1)"
   ]
  },
  {
   "cell_type": "markdown",
   "metadata": {},
   "source": [
    "> Printing the list as a string and then slicing the first three words\n",
    "\n",
    "\n",
    "\n"
   ]
  },
  {
   "cell_type": "markdown",
   "metadata": {},
   "source": [
    "### Lists"
   ]
  },
  {
   "cell_type": "markdown",
   "metadata": {},
   "source": [
    "Here's some nice info: `list`s are actually just like strings. And vice versa. You can do the same things. You can even turn a string into a list:"
   ]
  },
  {
   "cell_type": "code",
   "execution_count": 130,
   "metadata": {
    "ExecuteTime": {
     "end_time": "2020-09-15T08:11:53.490586Z",
     "start_time": "2020-09-15T08:11:53.487959Z"
    }
   },
   "outputs": [
    {
     "name": "stdout",
     "output_type": "stream",
     "text": [
      "['T', 'h', 'i', 's', ' ', 'i', 's', ' ', 't', 'h', 'e', ' ', 'f', 'i', 'r', 's', 't', ' ', 'p', 'a', 'r', 't', ' ', 'o', 'f', ' ', 't', 'h', 'e', ' ', 's', 't', 'r', 'i', 'n', 'g', '.', ' ', 'T', 'h', 'i', 's', ' ', 'i', 's', ' ', 't', 'h', 'e', ' ', 's', 'e', 'c', 'o', 'n', 'd', ' ', 'p', 'a', 'r', 't', ' ', 'o', 'f', ' ', 't', 'h', 'e', ' ', 's', 't', 'r', 'i', 'n', 'g', '.']\n"
     ]
    }
   ],
   "source": [
    "list1 = list(string1)\n",
    "print(list1)"
   ]
  },
  {
   "cell_type": "markdown",
   "metadata": {},
   "source": [
    "> **Problem 11**: Show that you can add two lists, and use slicing on a list."
   ]
  },
  {
   "cell_type": "code",
   "execution_count": 131,
   "metadata": {},
   "outputs": [
    {
     "name": "stdout",
     "output_type": "stream",
     "text": [
      "['T', 'h', 'i', 's', ' ', 'i', 's', ' ', 't', 'h', 'e', ' ', 'f', 'i', 'r', 's', 't', ' ', 'p', 'a', 'r', 't', ' ', 'o', 'f', ' ', 't', 'h', 'e', ' ', 's', 't', 'r', 'i', 'n', 'g', '.', ' ', 'T', 'h', 'i', 's', ' ', 'i', 's', ' ', 't', 'h', 'e', ' ', 's', 'e', 'c', 'o', 'n', 'd', ' ', 'p', 'a', 'r', 't', ' ', 'o', 'f', ' ', 't', 'h', 'e', ' ', 's', 't', 'r', 'i', 'n', 'g', '.', 'A', 'd', 'd', 'e', 'd']\n"
     ]
    }
   ],
   "source": [
    "list1.extend(\"Added\")\n",
    "print(list1)"
   ]
  },
  {
   "cell_type": "code",
   "execution_count": 132,
   "metadata": {},
   "outputs": [
    {
     "name": "stdout",
     "output_type": "stream",
     "text": [
      "['T', 'h', 'i', 's', ' ', 'i', 's', ' ', 't', 'h', 'e', ' ', 'f', 'i', 'r', 's', 't', ' ', 'p', 'a', 'r', 't', ' ', 'o', 'f', ' ', 't', 'h', 'e', ' ', 's', 't', 'r', 'i', 'n', 'g', '.', ' ', 'T', 'h', 'i', 's', ' ', 'i', 's', ' ', 't', 'h', 'e', ' ', 's', 'e', 'c', 'o', 'n', 'd', ' ', 'p', 'a', 'r', 't', ' ', 'o', 'f', ' ', 't', 'h', 'e', ' ', 's', 't', 'r', 'i', 'n', 'g', '.']\n"
     ]
    }
   ],
   "source": [
    "list1 = list1[0:-5]\n",
    "print(list1)"
   ]
  },
  {
   "cell_type": "code",
   "execution_count": 133,
   "metadata": {},
   "outputs": [
    {
     "ename": "SyntaxError",
     "evalue": "invalid syntax (<ipython-input-133-687b2c10caec>, line 1)",
     "output_type": "error",
     "traceback": [
      "\u001b[0;36m  File \u001b[0;32m\"<ipython-input-133-687b2c10caec>\"\u001b[0;36m, line \u001b[0;32m1\u001b[0m\n\u001b[0;31m    You can also use the del keyword in Python to remove an element or slice from a list.\u001b[0m\n\u001b[0m        ^\u001b[0m\n\u001b[0;31mSyntaxError\u001b[0m\u001b[0;31m:\u001b[0m invalid syntax\n"
     ]
    }
   ],
   "source": [
    "You can also use the del keyword in Python to remove an element or slice from a list."
   ]
  },
  {
   "cell_type": "markdown",
   "metadata": {},
   "source": [
    "Lists can also be sorted. This is pretty useful. There are two ways of doing this. See for yourself:"
   ]
  },
  {
   "cell_type": "code",
   "execution_count": 134,
   "metadata": {
    "ExecuteTime": {
     "end_time": "2020-09-15T08:14:00.494370Z",
     "start_time": "2020-09-15T08:14:00.491854Z"
    }
   },
   "outputs": [],
   "source": [
    "# Example 1: sort using the built-in `sorted` function. Creates\n",
    "# a new list that can be saved to a variable.\n",
    "list1_sorted = sorted(list1)\n",
    "\n",
    "# Example 2: sort using the `sort` method on the `list1` object.\n",
    "# This sorts `list` list one, but doesn't create a new variable\n",
    "list1.sort()"
   ]
  },
  {
   "cell_type": "code",
   "execution_count": 135,
   "metadata": {},
   "outputs": [
    {
     "name": "stdout",
     "output_type": "stream",
     "text": [
      "[' ', ' ', ' ', ' ', ' ', ' ', ' ', ' ', ' ', ' ', ' ', ' ', ' ', ' ', ' ', '.', '.', 'T', 'T', 'a', 'a', 'c', 'd', 'e', 'e', 'e', 'e', 'e', 'f', 'f', 'f', 'g', 'g', 'h', 'h', 'h', 'h', 'h', 'h', 'i', 'i', 'i', 'i', 'i', 'i', 'i', 'n', 'n', 'n', 'o', 'o', 'o', 'p', 'p', 'r', 'r', 'r', 'r', 'r', 's', 's', 's', 's', 's', 's', 's', 's', 't', 't', 't', 't', 't', 't', 't', 't', 't']\n"
     ]
    }
   ],
   "source": [
    "print(list1_sorted)"
   ]
  },
  {
   "cell_type": "code",
   "execution_count": 136,
   "metadata": {},
   "outputs": [
    {
     "name": "stdout",
     "output_type": "stream",
     "text": [
      "[' ', ' ', ' ', ' ', ' ', ' ', ' ', ' ', ' ', ' ', ' ', ' ', ' ', ' ', ' ', '.', '.', 'T', 'T', 'a', 'a', 'c', 'd', 'e', 'e', 'e', 'e', 'e', 'f', 'f', 'f', 'g', 'g', 'h', 'h', 'h', 'h', 'h', 'h', 'i', 'i', 'i', 'i', 'i', 'i', 'i', 'n', 'n', 'n', 'o', 'o', 'o', 'p', 'p', 'r', 'r', 'r', 'r', 'r', 's', 's', 's', 's', 's', 's', 's', 's', 't', 't', 't', 't', 't', 't', 't', 't', 't']\n"
     ]
    }
   ],
   "source": [
    "print(list1)"
   ]
  },
  {
   "cell_type": "markdown",
   "metadata": {},
   "source": [
    "Example 1 uses a built-in function to sort the list. Example 2 uses a method of the `list1` object to sort `list1` **inline**. That's what we call it when you change a variable using on of its methods, without returning anything."
   ]
  },
  {
   "cell_type": "markdown",
   "metadata": {},
   "source": [
    "> **Problem 12**: Assert that `list1_sorted` and `list1` are the same, and explain to yourself what the difference between inline sorting using the `sort` method, and simply using the `sorted` function is."
   ]
  },
  {
   "cell_type": "code",
   "execution_count": 137,
   "metadata": {},
   "outputs": [
    {
     "data": {
      "text/plain": [
       "False"
      ]
     },
     "execution_count": 137,
     "metadata": {},
     "output_type": "execute_result"
    }
   ],
   "source": [
    "list1_sorted == list1.sort()"
   ]
  },
  {
   "cell_type": "markdown",
   "metadata": {},
   "source": [
    "# !Question"
   ]
  },
  {
   "cell_type": "markdown",
   "metadata": {},
   "source": [
    "Another thing you will often need to do with lists is to find the **index** of a certain item. This can be done using the `index` method."
   ]
  },
  {
   "cell_type": "markdown",
   "metadata": {},
   "source": [
    "> **Problem 13**: In the list below, print the index of \"cat\". Also, explain what would happen if \"cat\" were inside the list multiple times."
   ]
  },
  {
   "cell_type": "code",
   "execution_count": 138,
   "metadata": {
    "ExecuteTime": {
     "end_time": "2020-09-15T08:55:04.136195Z",
     "start_time": "2020-09-15T08:55:04.133731Z"
    }
   },
   "outputs": [],
   "source": [
    "list2 = ['dog', 'cat', 'cat', 'mouse', 'mouse', -17]"
   ]
  },
  {
   "cell_type": "code",
   "execution_count": 140,
   "metadata": {},
   "outputs": [
    {
     "data": {
      "text/plain": [
       "1"
      ]
     },
     "execution_count": 140,
     "metadata": {},
     "output_type": "execute_result"
    }
   ],
   "source": [
    "list2.index(\"cat\")"
   ]
  },
  {
   "cell_type": "markdown",
   "metadata": {},
   "source": [
    "> Cat has the index two. If we incert a scond cat into the list the intex of cat is still tow. The index function seem to shwo only the first index. "
   ]
  },
  {
   "cell_type": "markdown",
   "metadata": {},
   "source": [
    "Finally, I should mention that you can also get the length of a string using the `len` built-in function."
   ]
  },
  {
   "cell_type": "code",
   "execution_count": 141,
   "metadata": {
    "ExecuteTime": {
     "end_time": "2020-09-15T08:55:05.627460Z",
     "start_time": "2020-09-15T08:55:05.624403Z"
    }
   },
   "outputs": [
    {
     "data": {
      "text/plain": [
       "5"
      ]
     },
     "execution_count": 141,
     "metadata": {},
     "output_type": "execute_result"
    }
   ],
   "source": [
    "len(list2)"
   ]
  },
  {
   "cell_type": "markdown",
   "metadata": {},
   "source": [
    "### Sets"
   ]
  },
  {
   "cell_type": "markdown",
   "metadata": {},
   "source": [
    "Sets are like lists, except they can only contain each item once."
   ]
  },
  {
   "cell_type": "markdown",
   "metadata": {},
   "source": [
    "> **Problem 14**: Use the `set` function on `list2`. Explain the result."
   ]
  },
  {
   "cell_type": "code",
   "execution_count": 142,
   "metadata": {},
   "outputs": [],
   "source": [
    "set_list2 = set(list2)"
   ]
  },
  {
   "cell_type": "code",
   "execution_count": 143,
   "metadata": {},
   "outputs": [
    {
     "name": "stdout",
     "output_type": "stream",
     "text": [
      "{'mouse', 'dog', 'cat', -17}\n"
     ]
    }
   ],
   "source": [
    "print(set_list2)"
   ]
  },
  {
   "cell_type": "markdown",
   "metadata": {},
   "source": [
    "> The function set reduces the list and deletes all reoccuring values in this case for example mouse. "
   ]
  },
  {
   "cell_type": "markdown",
   "metadata": {},
   "source": [
    "But why do we have sets? Like many things in programming, this is best understood by example. Imagine that you take two different classes at the university. You are going to do group projects in both classes, and since you would like to work with the same group in both classes, you need to know what people take both classes. Below you have two `list`s of your classmates in both classes."
   ]
  },
  {
   "cell_type": "code",
   "execution_count": 144,
   "metadata": {
    "ExecuteTime": {
     "end_time": "2020-09-15T08:26:36.396935Z",
     "start_time": "2020-09-15T08:26:36.393601Z"
    }
   },
   "outputs": [],
   "source": [
    "classmates_A = [\"Bjørn\", \"Jakob\", \"Paul\", \"Metha\", \"Rita\", \"Signe\", \"Sofia\", \"Kamilla\", \"Christine\", \"Hannah\", \"Villads\", \"David\", \"John\", \"Gorm\"]\n",
    "classmates_B = [\"Kenneth\", \"Ulla\", \"Dorthe\", \"Sofia\", \"Frede\", \"Boye\", \"Bjørn\", \"Jakob\", \"Paul\", \"Metha\", \"Rita\"]"
   ]
  },
  {
   "cell_type": "code",
   "execution_count": 152,
   "metadata": {},
   "outputs": [
    {
     "data": {
      "text/plain": [
       "list"
      ]
     },
     "execution_count": 152,
     "metadata": {},
     "output_type": "execute_result"
    }
   ],
   "source": [
    "type(classmates_A)"
   ]
  },
  {
   "cell_type": "markdown",
   "metadata": {},
   "source": [
    "Here are some operations you can do between two `set`s:\n",
    "* `A | B`: the \"or\" operator, creates a new set that contains all elements that are either in set `A` and `B`.\n",
    "* `A & B`: the \"and\" operator, creates a new set that contains only the elements that are in both set `A` and `B`.\n",
    "* `A - B`: the \"subtract\" operator, creates a new set that contains only the elements from `A` that are not in set `B`."
   ]
  },
  {
   "cell_type": "markdown",
   "metadata": {},
   "source": [
    "> **Problem 15:** Find out which classmates that take both classes, so you know who to group with."
   ]
  },
  {
   "cell_type": "code",
   "execution_count": 154,
   "metadata": {},
   "outputs": [],
   "source": [
    "# Turning list class into set\n",
    "\n",
    "classmates_A_set = set(classmates_A)\n",
    "classmates_B_set = set(classmates_B)"
   ]
  },
  {
   "cell_type": "code",
   "execution_count": 163,
   "metadata": {},
   "outputs": [
    {
     "name": "stdout",
     "output_type": "stream",
     "text": [
      "{'Paul', 'Sofia', 'Metha', 'Rita', 'Jakob', 'Bjørn'}\n"
     ]
    }
   ],
   "source": [
    "potetnial_group_mebers = classmates_A_set&classmates_B_set\n",
    "print(potetnial_group_mebers)"
   ]
  },
  {
   "cell_type": "markdown",
   "metadata": {},
   "source": [
    "> **Problem 16:** Find out what people in each class that are only taking that class."
   ]
  },
  {
   "cell_type": "code",
   "execution_count": 160,
   "metadata": {},
   "outputs": [
    {
     "name": "stdout",
     "output_type": "stream",
     "text": [
      "{'Christine', 'Hannah', 'Villads', 'Metha', 'David', 'Gorm', 'Kamilla', 'Signe', 'John', 'Paul', 'Sofia', 'Ulla', 'Kenneth', 'Rita', 'Jakob', 'Bjørn', 'Dorthe', 'Frede', 'Boye'}\n"
     ]
    }
   ],
   "source": [
    "only_one_class = classmates_A_set|classmates_B_set\n",
    "print(only_one_class)"
   ]
  },
  {
   "cell_type": "markdown",
   "metadata": {},
   "source": [
    "> **Bonus** Calculate the [Jaccard Index](https://en.wikipedia.org/wiki/Jaccard_index) of the two classes."
   ]
  },
  {
   "cell_type": "code",
   "execution_count": 165,
   "metadata": {},
   "outputs": [
    {
     "name": "stdout",
     "output_type": "stream",
     "text": [
      "0.3157894736842105\n"
     ]
    }
   ],
   "source": [
    "jaccard_index_class = len(potetnial_group_mebers) / len(only_one_class)\n",
    "print(jaccard_index_class)"
   ]
  },
  {
   "cell_type": "markdown",
   "metadata": {},
   "source": [
    "### Booleans"
   ]
  },
  {
   "cell_type": "markdown",
   "metadata": {},
   "source": [
    "`True` or `False`. That is the question. Typically, `bool` type objects like these result from some logical **condition**, often some sort of comparison."
   ]
  },
  {
   "cell_type": "markdown",
   "metadata": {},
   "source": [
    "> **Problem 17:** Below are a some comparisons. In a code comment above each, spell out what is being compared and make sure you understand the result."
   ]
  },
  {
   "cell_type": "code",
   "execution_count": 166,
   "metadata": {
    "ExecuteTime": {
     "end_time": "2020-09-15T08:37:21.617085Z",
     "start_time": "2020-09-15T08:37:21.613956Z"
    }
   },
   "outputs": [
    {
     "name": "stdout",
     "output_type": "stream",
     "text": [
      "True\n",
      "False\n",
      "False\n",
      "True\n",
      "False\n",
      "True\n"
     ]
    }
   ],
   "source": [
    "# 6 is bigger than 4\n",
    "\n",
    "print(4 < 6)\n",
    "\n",
    "# 6 egal 4\n",
    "\n",
    "print(4 == 6)\n",
    "\n",
    "# 4 is bigger than 6\n",
    "\n",
    "print(4 > 6)\n",
    "\n",
    "# 4 is not egal 6\n",
    "\n",
    "print(4 != 6)\n",
    "\n",
    "#4 is part of the list 123\n",
    "\n",
    "print(4 in [1, 2, 3])\n",
    "\n",
    "# the stirng lol is part of the stirng (contained in the stirng) lolleper\n",
    "\n",
    "print(\"lol\" in \"lolleper\")"
   ]
  },
  {
   "cell_type": "markdown",
   "metadata": {},
   "source": [
    "> **Reflection:** Reflect on what you just learned. What operations do you expect that you will be using frequently when coding with data? Are there still some of these you do not understand? Explain to your neighbor."
   ]
  },
  {
   "cell_type": "markdown",
   "metadata": {},
   "source": [
    "> Probalby we will use boleens and conparisons in if ifeslse statements for exampel if 4>x than do something etc. "
   ]
  },
  {
   "cell_type": "markdown",
   "metadata": {},
   "source": [
    "## Flow control and logical operators"
   ]
  },
  {
   "cell_type": "markdown",
   "metadata": {},
   "source": [
    "Almost always when coding, you need to check that some variable has some specific value, is inside some list, has a certain length, or whatever. For this you use the `if` statement. `if` statements are the fundamental building blocks of what's called **flow control**, or less abstractly **logic**. Wittgenstein would approve. If `if` statements sounds foreign by this defition, check yourself! You actually know them and use them all the time in the algorithms that guide your everyday decision making. For example, my algorithm for deciding whether I should cycle to work or work from home goes something like this:\n",
    "\n",
    "    if (it may rain) and (my physical presence is not required):\n",
    "        work from home\n",
    "    elif (I have a pressing deadline and need to work disturbance free):\n",
    "        work from home\n",
    "    elif (corona lockdown is effective):\n",
    "        work from home\n",
    "    else:\n",
    "        cycle to work\n",
    "        \n",
    "Similarly, Facebook's algorithm for whether or not you should see some ad maybe goes like:\n",
    "\n",
    "    if (has looked at related item on other website but not purchased):\n",
    "        show ad\n",
    "    elif (more than 10 friends have clicked ad) and (less than 3 friends have reported as irrelevant):\n",
    "        show ad\n",
    "    else:\n",
    "        don't show ad"
   ]
  },
  {
   "cell_type": "markdown",
   "metadata": {},
   "source": [
    "> **Problem 18:** Take a moment to reflect on some of the algorithms you apply in your own life, and write them down using `if` statements."
   ]
  },
  {
   "cell_type": "markdown",
   "metadata": {},
   "source": [
    "   if (I am tired) and (is morning):\n",
    "       make coffee\n",
    "   elif (I am not tired) and (is morning):\n",
    "       make coffee\n",
    "   elif (I am tired) and (it is not morning):\n",
    "       make coffee\n",
    "   else: \n",
    "       make tea"
   ]
  },
  {
   "cell_type": "markdown",
   "metadata": {},
   "source": [
    "Each *condition* (like \"it may rain\") in the `if` statements above evaluates to a `bool` type object. In other words, it is either `True` or `False`. Notice that in my first line I actually chain two conditions with an `and`. That `and` could also have been an `or` and you can imagine my algorithm would have led me to stay home a lot more. These `and`s and `or`s are what's called \"logical operators\", and they let us evaluate multiple conditions in conjunction."
   ]
  },
  {
   "cell_type": "markdown",
   "metadata": {},
   "source": [
    "> **Problem 19:** Identify what the following joint statements evaluate to:\n",
    "* `True and True` evaluates to true\n",
    "* `True and False` evaluates to flase\n",
    "* `False and False` evaluates to false\n",
    "* `True or True` evaluates to ture \n",
    "* `True or False` evaluates to true\n",
    "* `False or False` evaluates to true\n",
    "* `(True and True) or False` evaluates to true"
   ]
  },
  {
   "cell_type": "markdown",
   "metadata": {},
   "source": [
    "> **Problem 20**: Let's try a more Pythonian example. You have three variables: `bird_age`, `cat_age` and `dog_age`. Each holds a random integer between 0 and 15. In the cell below, write a small algorithm such that when you execute the cell it prints \"buy X\" where X is the youngest animal (e.g. if `dog_age` is the smallest integer it prints \"buy dog\")."
   ]
  },
  {
   "cell_type": "code",
   "execution_count": 172,
   "metadata": {},
   "outputs": [
    {
     "name": "stdout",
     "output_type": "stream",
     "text": [
      "buy bird\n"
     ]
    }
   ],
   "source": [
    "import random\n",
    "\n",
    "bird_age = random.randint(0, 15)\n",
    "cat_age = random.randint(0, 15)\n",
    "dog_age = random.randint(0, 15)\n",
    "\n",
    "if bird_age > 3:\n",
    "    print(\"buy bird\")\n",
    "elif cat_age < 3:\n",
    "    print(\"buy cat\")\n",
    "else:\n",
    "    print(\"buy dog\")\n",
    "    \n"
   ]
  },
  {
   "cell_type": "markdown",
   "metadata": {},
   "source": [
    "> **Problem 21:** Why use `elif` after the first `if` instead of just using `if` again? Consider the example below. What happens when you change `elif` to `if`? Explain the change you observe."
   ]
  },
  {
   "cell_type": "code",
   "execution_count": 174,
   "metadata": {
    "ExecuteTime": {
     "end_time": "2020-09-15T06:33:36.126707Z",
     "start_time": "2020-09-15T06:33:36.123601Z"
    }
   },
   "outputs": [
    {
     "name": "stdout",
     "output_type": "stream",
     "text": [
      "10 is greater than 8\n"
     ]
    }
   ],
   "source": [
    "if 10 > 8:\n",
    "    print(\"10 is greater than 8\")\n",
    "elif 8 < 10:\n",
    "    print(\"8 is smaller than 10\")"
   ]
  },
  {
   "cell_type": "code",
   "execution_count": 176,
   "metadata": {},
   "outputs": [
    {
     "name": "stdout",
     "output_type": "stream",
     "text": [
      "10 is greater than 8\n",
      "8 is smaller than 10\n"
     ]
    }
   ],
   "source": [
    "if 10 > 8:\n",
    "    print(\"10 is greater than 8\")\n",
    "if 8 < 10:\n",
    "    print(\"8 is smaller than 10\")"
   ]
  },
  {
   "cell_type": "markdown",
   "metadata": {},
   "source": [
    "> if we use only if statment the python interpreter sees each fucntion as a seperate if fuction. if we use elif we have an if funcitons with two arguemtns"
   ]
  },
  {
   "cell_type": "markdown",
   "metadata": {},
   "source": [
    "> **Reflection**: Again, stop here and breath deeply. What did you just learn. Discuss with your neighbor (or someone who does not mind the interruption). What are `if` statements? What is their purpose and why do we need them? How do we chain conditions (evaluate them in conjunction)?"
   ]
  },
  {
   "cell_type": "markdown",
   "metadata": {},
   "source": [
    "## Functions"
   ]
  },
  {
   "cell_type": "markdown",
   "metadata": {},
   "source": [
    "We are almost done with all of the fundamentals. You have learned A LOT today, so congratulate yourself on making it this far. If you are exhausted, I am not surprised. But I need you to learn a couple more things. **Functions** are a core idea in all of programming. They are actually quite simple. A function is like a little machine that takes an input, does something with it and then returns an output. You have already used them a few times, namely some of the built-in functions line `len` and `sorted` that can be **called** on `list`s and `str`s.\n",
    "\n",
    "Here is a very simple example function:"
   ]
  },
  {
   "cell_type": "code",
   "execution_count": 181,
   "metadata": {
    "ExecuteTime": {
     "end_time": "2020-09-15T08:49:15.959208Z",
     "start_time": "2020-09-15T08:49:15.956930Z"
    }
   },
   "outputs": [],
   "source": [
    "def a_very_simple_function(the_input):\n",
    "    the_output = the_input * 10\n",
    "    return the_output\n"
   ]
  },
  {
   "cell_type": "markdown",
   "metadata": {},
   "source": [
    "Read that, like by line for yourself. Commonly we would not give such silly variable names. A more concise version of the above function that does the same could be:"
   ]
  },
  {
   "cell_type": "code",
   "execution_count": 182,
   "metadata": {
    "ExecuteTime": {
     "end_time": "2020-09-15T08:50:06.041256Z",
     "start_time": "2020-09-15T08:50:06.038933Z"
    }
   },
   "outputs": [],
   "source": [
    "def myfunc(x):\n",
    "    return x * 10"
   ]
  },
  {
   "cell_type": "markdown",
   "metadata": {},
   "source": [
    "Or even more compactly using *lambda* notation:"
   ]
  },
  {
   "cell_type": "code",
   "execution_count": 183,
   "metadata": {
    "ExecuteTime": {
     "end_time": "2020-09-15T08:50:26.161715Z",
     "start_time": "2020-09-15T08:50:26.159336Z"
    }
   },
   "outputs": [],
   "source": [
    "myfunc = lambda x: x * 10"
   ]
  },
  {
   "cell_type": "markdown",
   "metadata": {},
   "source": [
    "It doesn't matter so much how we write it, each of these example functions does the same. They take a number and multiply it by 10. You can **call** a function on some input like this:"
   ]
  },
  {
   "cell_type": "code",
   "execution_count": 184,
   "metadata": {
    "ExecuteTime": {
     "end_time": "2020-09-15T09:12:29.239994Z",
     "start_time": "2020-09-15T09:12:29.236883Z"
    }
   },
   "outputs": [
    {
     "data": {
      "text/plain": [
       "100"
      ]
     },
     "execution_count": 184,
     "metadata": {},
     "output_type": "execute_result"
    }
   ],
   "source": [
    "# calling a function on 10\n",
    "myfunc(10)"
   ]
  },
  {
   "cell_type": "markdown",
   "metadata": {},
   "source": [
    "Functions can also take multiple inputs:"
   ]
  },
  {
   "cell_type": "code",
   "execution_count": 185,
   "metadata": {},
   "outputs": [
    {
     "ename": "SyntaxError",
     "evalue": "invalid syntax (<ipython-input-185-47397ffb40cf>, line 2)",
     "output_type": "error",
     "traceback": [
      "\u001b[0;36m  File \u001b[0;32m\"<ipython-input-185-47397ffb40cf>\"\u001b[0;36m, line \u001b[0;32m2\u001b[0m\n\u001b[0;31m    output = # do stuff with x and y\u001b[0m\n\u001b[0m             ^\u001b[0m\n\u001b[0;31mSyntaxError\u001b[0m\u001b[0;31m:\u001b[0m invalid syntax\n"
     ]
    }
   ],
   "source": [
    "def myfunc(x, y):\n",
    "    output = # do stuff with x and y\n",
    "    return output\n",
    "\n"
   ]
  },
  {
   "cell_type": "markdown",
   "metadata": {},
   "source": [
    "> **Problem 22**: Write a new function that takes two string and concatenates them into a new string."
   ]
  },
  {
   "cell_type": "code",
   "execution_count": 188,
   "metadata": {},
   "outputs": [
    {
     "data": {
      "text/plain": [
       "'I am done for today!!!'"
      ]
     },
     "execution_count": 188,
     "metadata": {},
     "output_type": "execute_result"
    }
   ],
   "source": [
    "stirng1_test = \"I am \"\n",
    "string2_test = \"done for today!!!\"\n",
    "\n",
    "\n",
    "def mydonefuc(x, y): \n",
    "    done_for_today = x + y\n",
    "    return done_for_today\n",
    "\n",
    "mydonefuc(stirng1_test, string2_test)"
   ]
  }
 ],
 "metadata": {
  "kernelspec": {
   "display_name": "Python 3",
   "language": "python",
   "name": "python3"
  },
  "language_info": {
   "codemirror_mode": {
    "name": "ipython",
    "version": 3
   },
   "file_extension": ".py",
   "mimetype": "text/x-python",
   "name": "python",
   "nbconvert_exporter": "python",
   "pygments_lexer": "ipython3",
   "version": "3.8.3"
  }
 },
 "nbformat": 4,
 "nbformat_minor": 2
}
