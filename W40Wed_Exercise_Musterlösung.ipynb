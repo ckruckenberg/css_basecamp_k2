{
  "nbformat": 4,
  "nbformat_minor": 0,
  "metadata": {
    "display_name": "Python 3",
    "kernelspec": {
      "display_name": "Python 3",
      "language": "python",
      "name": "python3"
    },
    "language_info": {
      "codemirror_mode": {
        "name": "ipython",
        "version": 3
      },
      "file_extension": ".py",
      "mimetype": "text/x-python",
      "name": "python",
      "nbconvert_exporter": "python",
      "pygments_lexer": "ipython3",
      "version": "3.8.3"
    },
    "toc": {
      "base_numbering": 1,
      "nav_menu": {},
      "number_sections": false,
      "sideBar": true,
      "skip_h1_title": false,
      "title_cell": "Table of Contents",
      "title_sidebar": "Contents",
      "toc_cell": false,
      "toc_position": {},
      "toc_section_display": true,
      "toc_window_display": true
    },
    "varInspector": {
      "cols": {
        "lenName": 16,
        "lenType": 16,
        "lenVar": 40
      },
      "kernels_config": {
        "python": {
          "delete_cmd_postfix": "",
          "delete_cmd_prefix": "del ",
          "library": "var_list.py",
          "varRefreshCmd": "print(var_dic_list())"
        },
        "r": {
          "delete_cmd_postfix": ") ",
          "delete_cmd_prefix": "rm(",
          "library": "var_list.r",
          "varRefreshCmd": "cat(var_dic_list()) "
        }
      },
      "types_to_exclude": [
        "module",
        "function",
        "builtin_function_or_method",
        "instance",
        "_Feature"
      ],
      "window_display": false
    },
    "colab": {
      "name": "W40Wed-Exercise.ipynb",
      "provenance": [],
      "collapsed_sections": [],
      "toc_visible": true,
      "include_colab_link": true
    }
  },
  "cells": [
    {
      "cell_type": "markdown",
      "metadata": {
        "id": "view-in-github",
        "colab_type": "text"
      },
      "source": [
        "<a href=\"https://colab.research.google.com/github/ckruckenberg/css_basecamp_k2/blob/master/W40Wed_Exercise_Musterl%C3%B6sung.ipynb\" target=\"_parent\"><img src=\"https://colab.research.google.com/assets/colab-badge.svg\" alt=\"Open In Colab\"/></a>"
      ]
    },
    {
      "cell_type": "markdown",
      "metadata": {
        "id": "bsIlaV0JUo98"
      },
      "source": [
        "# Exercises: HTML and scraping\n",
        "**Wednesday, September 29, 2020**\n",
        "\n",
        "You fingers should now be iching for some new data to play with. And guess what? The Internet is full of it! Every **website** you can imagine can be **turned into a dataset** for analysis and you will now learn how to do this."
      ]
    },
    {
      "cell_type": "markdown",
      "metadata": {
        "id": "sZUVwlbTUo98"
      },
      "source": [
        "## 1. HTML"
      ]
    },
    {
      "cell_type": "markdown",
      "metadata": {
        "id": "UY70gf38Uo99"
      },
      "source": [
        "It all starts with learning a little about the language of the World Wide Web. **HTML is the** ***markup language*** **used by web pages**. It's ubiquitous on the web; even when editing this notebook you are interacting with HTML (right click and hit \"View Page Source\" if you need proof). Here follows some exercises to get you comfortable with navigating HTML on web pages."
      ]
    },
    {
      "cell_type": "markdown",
      "metadata": {
        "id": "5clzjOBgUo99"
      },
      "source": [
        "> **Problem 1**: Right click inside the cell below and hit \"Inspect\". This should launch the \"Inspector\" tool in your browser, showing you where the element that renders the cell sits inside the DOM.\n",
        "1. How deeply is it nested? Are there any sibling elements?\n",
        "2. What happens when you update it? Change the text and see for yourself.\n",
        ">\n",
        "> *Hint: Most modern browsers (e.g. Firefox, Chrome, Brave) will let you hover elements in the DOM to show where they display on the web page.*"
      ]
    },
    {
      "cell_type": "markdown",
      "metadata": {
        "id": "xGElcpxPUo9-"
      },
      "source": [
        "> **Problem 2**: In the HTML code below:\n",
        "1. What is typically the use of the `<p>`, `<h1>` and `<h2>` tags? Look them up, what are they for?\n",
        "2. What are the attributes of the `div` element?\n",
        "3. Create a text file that ends with \".html\" and open it in a browser."
      ]
    },
    {
      "cell_type": "markdown",
      "metadata": {
        "id": "LI7bImOjUo9-"
      },
      "source": [
        "    <html>\n",
        "    <body>\n",
        "\n",
        "    <div width=200 height=100 id=\"main\">\n",
        "        <h1>This is the main title of the webpage</h1>\n",
        "        <h2>This is a sub-heading</h2>\n",
        "        <p>This is a paragraph of text.</p>\n",
        "    </div>\n",
        "\n",
        "    <h2>This is another sub-heading</h2>\n",
        "    <p>This is a paragraph of text with some words in bold.</p>\n",
        "    <img src=\"https://external-content.duckduckgo.com/iu/?u=https%3A%2F%2Fmedia.giphy.com%2Fmedia%2FkFgzrTt798d2w%2Fgiphy.gif&f=1&nofb=1\" width=\"493\" height=\"340\">\n",
        "    <p>And that just above is an image.</p>\n",
        "\n",
        "    </body>\n",
        "    </html>\n"
      ]
    },
    {
      "cell_type": "markdown",
      "metadata": {
        "id": "KIRNUy6PUo9_"
      },
      "source": [
        "> **Problem 3**: Using the `requests` module, download [this web page](https://www.boliga.dk/resultat?propertyType=3&zipCodes=2200&page=1). Print the first 25 lines of the html string. How many lines are there in total?\n",
        ">\n",
        "> *Hint: use the `requests.get` method. To figure out how it works, execute `?requests.get` (after importing `requests`), this displays the module documentation.*"
      ]
    },
    {
      "cell_type": "code",
      "metadata": {
        "id": "ACAxVAxRLN99"
      },
      "source": [
        "import requests as rq\n",
        "\n",
        "html = rq.get('https://www.boliga.dk/resultat?propertyType=3&zipCodes=2200&page=1').text"
      ],
      "execution_count": null,
      "outputs": []
    },
    {
      "cell_type": "code",
      "metadata": {
        "id": "dr_P-UmPLbRs",
        "outputId": "1ab683e6-cbe4-4a1c-dfe6-64d253155d0c",
        "colab": {
          "base_uri": "https://localhost:8080/"
        }
      },
      "source": [
        "for line in html.split('\\n')[:25]:\n",
        "  print(line)"
      ],
      "execution_count": null,
      "outputs": [
        {
          "output_type": "stream",
          "text": [
            "<!DOCTYPE html><html lang=\"en\"><head>\n",
            "  <!-- Google Tag Manager -->\n",
            "  <script>(function(w,d,s,l,i){w[l]=w[l]||[];w[l].push({'gtm.start':\n",
            "    new Date().getTime(),event:'gtm.js'});var f=d.getElementsByTagName(s)[0],\n",
            "    j=d.createElement(s),dl=l!='dataLayer'?'&l='+l:'';j.async=true;j.src=\n",
            "    'https://www.googletagmanager.com/gtm.js?id='+i+dl;f.parentNode.insertBefore(j,f);\n",
            "    })(window,document,'script','dataLayer','GTM-PWD5VZT');\n",
            "  </script>\n",
            "  <!-- End Google Tag Manager -->\n",
            "\n",
            "  <meta charset=\"utf-8\">\n",
            "  <meta name=\"description\" content=\"Se alle ejerlejligheder til salg i 2200 København N, salgspriser m.m. på Danmarks største uafhængige boligside.\">\n",
            "  <meta name=\"keywords\" content=\"\">\n",
            "\n",
            "  <title>Alle 118 ejerlejligheder til salg i 2200 København N </title>\n",
            "  <base href=\"/\">\n",
            "  <meta name=\"viewport\" content=\"width=device-width, initial-scale=1, maximum-scale=1, user-scalable=0\">\n",
            "  <link rel=\"icon\" type=\"image/x-icon\" href=\"favicon.ico\">\n",
            "  <link rel=\"apple-touch-icon\" sizes=\"180x180\" href=\"/assets/apple-touch-icon.png\">\n",
            "  <link rel=\"icon\" type=\"image/png\" sizes=\"32x32\" href=\"/assets/favicon-32x32.png\">\n",
            "  <link rel=\"icon\" type=\"image/png\" sizes=\"16x16\" href=\"/assets/favicon-16x16.png\">\n",
            "  <link rel=\"manifest\" href=\"/assets/site.webmanifest\">\n",
            "  <link rel=\"mask-icon\" href=\"/assets/safari-pinned-tab.svg\" color=\"#5bbad5\">\n",
            "  <meta name=\"msapplication-TileColor\" content=\"#da532c\">\n",
            "  <meta name=\"theme-color\" content=\"#ffffff\">\n"
          ],
          "name": "stdout"
        }
      ]
    },
    {
      "cell_type": "code",
      "metadata": {
        "id": "dnDWxoqrMPeo",
        "outputId": "b240524f-e28e-4fc0-eee7-b35d2a8452d4",
        "colab": {
          "base_uri": "https://localhost:8080/"
        }
      },
      "source": [
        "# alternative\n",
        "print(\"\\n\".join(html.split('\\n')[:25]))"
      ],
      "execution_count": null,
      "outputs": [
        {
          "output_type": "stream",
          "text": [
            "<!DOCTYPE html><html lang=\"en\"><head>\n",
            "  <!-- Google Tag Manager -->\n",
            "  <script>(function(w,d,s,l,i){w[l]=w[l]||[];w[l].push({'gtm.start':\n",
            "    new Date().getTime(),event:'gtm.js'});var f=d.getElementsByTagName(s)[0],\n",
            "    j=d.createElement(s),dl=l!='dataLayer'?'&l='+l:'';j.async=true;j.src=\n",
            "    'https://www.googletagmanager.com/gtm.js?id='+i+dl;f.parentNode.insertBefore(j,f);\n",
            "    })(window,document,'script','dataLayer','GTM-PWD5VZT');\n",
            "  </script>\n",
            "  <!-- End Google Tag Manager -->\n",
            "\n",
            "  <meta charset=\"utf-8\">\n",
            "  <meta name=\"description\" content=\"Se alle ejerlejligheder til salg i 2200 København N, salgspriser m.m. på Danmarks største uafhængige boligside.\">\n",
            "  <meta name=\"keywords\" content=\"\">\n",
            "\n",
            "  <title>Alle 118 ejerlejligheder til salg i 2200 København N </title>\n",
            "  <base href=\"/\">\n",
            "  <meta name=\"viewport\" content=\"width=device-width, initial-scale=1, maximum-scale=1, user-scalable=0\">\n",
            "  <link rel=\"icon\" type=\"image/x-icon\" href=\"favicon.ico\">\n",
            "  <link rel=\"apple-touch-icon\" sizes=\"180x180\" href=\"/assets/apple-touch-icon.png\">\n",
            "  <link rel=\"icon\" type=\"image/png\" sizes=\"32x32\" href=\"/assets/favicon-32x32.png\">\n",
            "  <link rel=\"icon\" type=\"image/png\" sizes=\"16x16\" href=\"/assets/favicon-16x16.png\">\n",
            "  <link rel=\"manifest\" href=\"/assets/site.webmanifest\">\n",
            "  <link rel=\"mask-icon\" href=\"/assets/safari-pinned-tab.svg\" color=\"#5bbad5\">\n",
            "  <meta name=\"msapplication-TileColor\" content=\"#da532c\">\n",
            "  <meta name=\"theme-color\" content=\"#ffffff\">\n"
          ],
          "name": "stdout"
        }
      ]
    },
    {
      "cell_type": "code",
      "metadata": {
        "id": "Ij40wUwxNOKQ",
        "outputId": "741ceccf-2991-4faf-9c26-65679294f5a4",
        "colab": {
          "base_uri": "https://localhost:8080/"
        }
      },
      "source": [
        "# how `join` works:\n",
        "tmp = [str(v) for v in [1, 2, 3]]\n",
        "tmp = map(str, [1, 2, 3])\n",
        "print(\"\\n\".join(tmp))"
      ],
      "execution_count": null,
      "outputs": [
        {
          "output_type": "stream",
          "text": [
            "1\n",
            "2\n",
            "3\n"
          ],
          "name": "stdout"
        }
      ]
    },
    {
      "cell_type": "code",
      "metadata": {
        "id": "sWphHj00N01a",
        "outputId": "c23c3e3f-2c1b-4aac-aa34-e53ea2a1be03",
        "colab": {
          "base_uri": "https://localhost:8080/"
        }
      },
      "source": [
        "# how many lines in total?\n",
        "len(html.split('\\n'))"
      ],
      "execution_count": null,
      "outputs": [
        {
          "output_type": "execute_result",
          "data": {
            "text/plain": [
              "40"
            ]
          },
          "metadata": {
            "tags": []
          },
          "execution_count": 27
        }
      ]
    },
    {
      "cell_type": "markdown",
      "metadata": {
        "id": "AhC2jHuoUo9_"
      },
      "source": [
        "## 2 Scraping"
      ]
    },
    {
      "cell_type": "markdown",
      "metadata": {
        "id": "cNr05HYwUo-A"
      },
      "source": [
        "*Scraping* means to take some HTML code and collect the important pieces of information inside of it. *Crawling* is\n",
        "another important contect, and the word refers to **automatically** sifting through pages of the web and scraping\n",
        "information on each page. 90% of scraping and crawling work can be done using the two modules `requests` and\n",
        "`BeautifulSoup`."
      ]
    },
    {
      "cell_type": "markdown",
      "metadata": {
        "id": "mgzzFXs5Uo-A"
      },
      "source": [
        "> **Problem 4:** Load the example HTML code from Problem 2 using BeautifulSoup. Use the [documentation page](https://www.crummy.com/software/BeautifulSoup/bs4/doc/) for reference on how to do this.\n",
        "1. Access the `h1` element inside the `div` and print out its content (which is \"This is the main title of the webpage\").\n",
        "2. Get the value of the `src` attribute inside the `img` element.\n",
        "3. Get the second subheading that contains \"This is another sub-heading\" and print out that content.\n",
        "4. Get the `div` element by searching for its id."
      ]
    },
    {
      "cell_type": "code",
      "metadata": {
        "id": "1vkYJJwtO9Me"
      },
      "source": [
        "html = \"\"\"<html>\n",
        "<body>\n",
        " \n",
        "<div width=200 height=100 id=\"main\">\n",
        "    <h1>This is the main title of the webpage</h1>\n",
        "    <h2>This is a sub-heading</h2>\n",
        "    <p>This is a paragraph of text.</p>\n",
        "</div>\n",
        " \n",
        "<h2>This is another sub-heading</h2>\n",
        "<p>This is a paragraph of text with some words in bold.</p>\n",
        "<img src=\"https://external-content.duckduckgo.com/iu/?u=https%3A%2F%2Fmedia.giphy.com%2Fmedia%2FkFgzrTt798d2w%2Fgiphy.gif&f=1&nofb=1\" width=\"493\" height=\"340\">\n",
        "<p>And that just above is an image.</p>\n",
        " \n",
        "</body>\n",
        "</html>\"\"\""
      ],
      "execution_count": null,
      "outputs": []
    },
    {
      "cell_type": "code",
      "metadata": {
        "id": "zBXITU10PJmA"
      },
      "source": [
        "from bs4 import BeautifulSoup\n",
        "\n",
        "soup = BeautifulSoup(html, 'html.parser')"
      ],
      "execution_count": null,
      "outputs": []
    },
    {
      "cell_type": "code",
      "metadata": {
        "id": "DsziUqWJPfw2",
        "outputId": "d7a56754-c109-4732-a54a-1c9230a49aa0",
        "colab": {
          "base_uri": "https://localhost:8080/"
        }
      },
      "source": [
        "# Problem 4.1\n",
        "print(soup.h1.text)"
      ],
      "execution_count": null,
      "outputs": [
        {
          "output_type": "stream",
          "text": [
            "This is the main title of the webpage\n"
          ],
          "name": "stdout"
        }
      ]
    },
    {
      "cell_type": "code",
      "metadata": {
        "id": "Lpseux2PP2Zm",
        "outputId": "020eda61-6441-40d5-fcf1-8724050f6f55",
        "colab": {
          "base_uri": "https://localhost:8080/"
        }
      },
      "source": [
        "# Problem 4.2\n",
        "print(soup.img['src'])"
      ],
      "execution_count": null,
      "outputs": [
        {
          "output_type": "stream",
          "text": [
            "https://external-content.duckduckgo.com/iu/?u=https%3A%2F%2Fmedia.giphy.com%2Fmedia%2FkFgzrTt798d2w%2Fgiphy.gif&f=1&nofb=1\n"
          ],
          "name": "stdout"
        }
      ]
    },
    {
      "cell_type": "code",
      "metadata": {
        "id": "iTg1fQQsQMVE",
        "outputId": "82568c0b-686b-4867-b93d-43834cafbb32",
        "colab": {
          "base_uri": "https://localhost:8080/"
        }
      },
      "source": [
        "# Problem 4.3\n",
        "print(soup.find_all('h2')[1].text)"
      ],
      "execution_count": null,
      "outputs": [
        {
          "output_type": "stream",
          "text": [
            "This is another sub-heading\n"
          ],
          "name": "stdout"
        }
      ]
    },
    {
      "cell_type": "code",
      "metadata": {
        "id": "ebGTvT_qQelk",
        "outputId": "de66a5e4-0fa4-49c3-f2c6-26d0eb5566de",
        "colab": {
          "base_uri": "https://localhost:8080/"
        }
      },
      "source": [
        "# Problem 4.4\n",
        "soup.find(id='main').text "
      ],
      "execution_count": null,
      "outputs": [
        {
          "output_type": "execute_result",
          "data": {
            "text/plain": [
              "['',\n",
              " 'This is the main title of the webpage',\n",
              " 'This is a sub-heading',\n",
              " 'This is a paragraph of text.',\n",
              " '']"
            ]
          },
          "metadata": {
            "tags": []
          },
          "execution_count": 52
        }
      ]
    },
    {
      "cell_type": "markdown",
      "metadata": {
        "id": "fmk8i9_lUo-B"
      },
      "source": [
        "> **Problem 5:** Load the HTML you downloaded in Problem 3. For each post, extract price, square meter size and \"Ejerudgift\". You should create three different lists that contain each variable across posts."
      ]
    },
    {
      "cell_type": "code",
      "metadata": {
        "id": "duFw7ZyIVGoV"
      },
      "source": [
        "html = rq.get('https://www.boliga.dk/resultat?propertyType=3&zipCodes=2200&page=1').text\n",
        "\n",
        "soup = BeautifulSoup(html, 'html.parser')"
      ],
      "execution_count": null,
      "outputs": []
    },
    {
      "cell_type": "code",
      "metadata": {
        "id": "ZB9V9R40VLAF",
        "outputId": "34e48635-8452-4d81-d1ce-27a340024ab4",
        "colab": {
          "base_uri": "https://localhost:8080/"
        }
      },
      "source": [
        "import re\n",
        "from tqdm import tqdm\n",
        "\n",
        "# extract house list items\n",
        "house_list_items = soup.find_all('a', {'class': 'house-list-item'})\n",
        "\n",
        "# create empty lists for data storage\n",
        "prices = []\n",
        "ejerudgifter = []\n",
        "\n",
        "# loop over house list items\n",
        "for house_item in tqdm(house_list_items):\n",
        "  price_text = house_item.find('div', {'class': 'primary-value d-flex justify-content-end'}).text\n",
        "\n",
        "  # get price\n",
        "  price = re.findall(r'\\d*\\.?\\d*\\.\\d{3}', price_text)[0]\n",
        "  price = int(price.replace(\".\", \"\"))\n",
        "\n",
        "  # ejerudgift\n",
        "  try:\n",
        "    ejerudgift = re.findall(r'Ejerudgift: \\d*\\.?\\d+', house_item.text)[0]\n",
        "    ejerudgift = ejerudgift.replace('Ejerudgift: ', '')\n",
        "    ejerudgift = int(ejerudgift.replace('.', ''))\n",
        "  except IndexError:\n",
        "    print(\"nope\")\n",
        "    continue\n",
        "\n",
        "  if ejerudgift == 0:\n",
        "    continue\n",
        "\n",
        "  # save data\n",
        "  prices.append(price)\n",
        "  ejerudgifter.append(ejerudgift)\n",
        "  "
      ],
      "execution_count": null,
      "outputs": [
        {
          "output_type": "stream",
          "text": [
            "100%|██████████| 52/52 [00:00<00:00, 1297.39it/s]"
          ],
          "name": "stderr"
        },
        {
          "output_type": "stream",
          "text": [
            "nope\n",
            "nope\n"
          ],
          "name": "stdout"
        },
        {
          "output_type": "stream",
          "text": [
            "\n"
          ],
          "name": "stderr"
        }
      ]
    },
    {
      "cell_type": "markdown",
      "metadata": {
        "id": "-ECmF0m-Uo-B"
      },
      "source": [
        "> **Problem 6:** Make a scatter plot of square meter size vs. extracted price. Then make a new variable that \n",
        "measures price per square meter and scatter plot this against \"Ejerudgift\". Can you say anything about how\n",
        "\"Ejerudgift\" influences square meter price?"
      ]
    },
    {
      "cell_type": "code",
      "metadata": {
        "id": "G_LOOQqWd8S3",
        "outputId": "b83b5e63-6ecf-4b63-f977-3ef4a2f9be98",
        "colab": {
          "base_uri": "https://localhost:8080/",
          "height": 494
        }
      },
      "source": [
        "%matplotlib inline\n",
        "import matplotlib.pylab as plt\n",
        "\n",
        "plt.figure(figsize=(10, 8))\n",
        "plt.scatter(ejerudgifter, prices)\n",
        "plt.show()"
      ],
      "execution_count": null,
      "outputs": [
        {
          "output_type": "display_data",
          "data": {
            "image/png": "[encoded data removed]",
            "text/plain": [
              "<Figure size 720x576 with 1 Axes>"
            ]
          },
          "metadata": {
            "tags": [],
            "needs_background": "light"
          }
        }
      ]
    },
    {
      "cell_type": "markdown",
      "metadata": {
        "id": "nnBYm4aWUo-C"
      },
      "source": [
        "> **Extra:** Crawl over pages of Boliga to collect this data for the entire borough of Nørrebro. Or all of Copenhagen! Or Denmark!? You can also make multiple runs and make different plots for each part of the country to note differences. You set your limits here."
      ]
    },
    {
      "cell_type": "code",
      "metadata": {
        "id": "8y5uU3oTe0P8",
        "outputId": "f74a5f06-8470-401a-ecca-f9cd61f6e347",
        "colab": {
          "base_uri": "https://localhost:8080/"
        }
      },
      "source": [
        "# create empty lists for data storage\n",
        "prices = []\n",
        "ejerudgifter = []\n",
        "\n",
        "for page_number in tqdm(range(10), total=10):\n",
        "\n",
        "  html = rq.get(f'https://www.boliga.dk/resultat?propertyType=3&page={page_number}').text\n",
        "\n",
        "  soup = BeautifulSoup(html, 'html.parser')\n",
        "\n",
        "  # extract house list items\n",
        "  house_list_items = soup.find_all('a', {'class': 'house-list-item'})\n",
        "\n",
        "  # loop over house list items\n",
        "  for house_item in house_list_items:\n",
        "    price_text = house_item.find('div', {'class': 'primary-value d-flex justify-content-end'}).text\n",
        "\n",
        "    # get price\n",
        "    price = re.findall(r'\\d*\\.?\\d*\\.\\d{3}', price_text)[0]\n",
        "    price = int(price.replace(\".\", \"\"))\n",
        "\n",
        "    # ejerudgift\n",
        "    try:\n",
        "      ejerudgift = re.findall(r'Ejerudgift: \\d*\\.?\\d+', house_item.text)[0]\n",
        "      ejerudgift = ejerudgift.replace('Ejerudgift: ', '')\n",
        "      ejerudgift = int(ejerudgift.replace('.', ''))\n",
        "    except IndexError:\n",
        "      print(\"nope\")\n",
        "      continue\n",
        "\n",
        "    if ejerudgift == 0:\n",
        "      continue\n",
        "\n",
        "    # save data\n",
        "    prices.append(price)\n",
        "    ejerudgifter.append(ejerudgift)\n",
        "    "
      ],
      "execution_count": null,
      "outputs": [
        {
          "output_type": "stream",
          "text": [
            "100%|██████████| 10/10 [00:20<00:00,  2.01s/it]\n"
          ],
          "name": "stderr"
        }
      ]
    },
    {
      "cell_type": "code",
      "metadata": {
        "id": "73oe-lrmfl66",
        "outputId": "ef2225e2-07f9-480e-819c-cf38628bf2cf",
        "colab": {
          "base_uri": "https://localhost:8080/",
          "height": 494
        }
      },
      "source": [
        "%matplotlib inline\n",
        "import matplotlib.pylab as plt\n",
        "\n",
        "plt.figure(figsize=(10, 8))\n",
        "plt.scatter(ejerudgifter, prices)\n",
        "plt.show()"
      ],
      "execution_count": null,
      "outputs": [
        {
          "output_type": "display_data",
          "data": {
            "image/png": "[encoded data removed]",
            "text/plain": [
              "<Figure size 720x576 with 1 Axes>"
            ]
          },
          "metadata": {
            "tags": [],
            "needs_background": "light"
          }
        }
      ]
    },
    {
      "cell_type": "markdown",
      "metadata": {
        "id": "6G6vSCNFUo-C"
      },
      "source": [
        "> **Reflection:** What did you just learn? Housing prices may not be your biggest passion, but using this as example of what you can do with your new powers, **take a moment to discuss what other datasets you can now acquire** and analyse. What doors previously inaccessible knowledge about the world does this skill unlock?"
      ]
    }
  ]
}