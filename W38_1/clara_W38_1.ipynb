{
 "cells": [
  {
   "cell_type": "markdown",
   "metadata": {},
   "source": [
    "# Exercise W3D1\n",
    "\n",
    "Welcome to your first exercise notebook! Today's exercises continue from the Word document. Most other days all your exercises will be all in a Notebook. "
   ]
  },
  {
   "cell_type": "markdown",
   "metadata": {},
   "source": [
    "### 3.1.7 Try out Jupyter Markdown\n",
    "\n",
    "This cell is written in markdown format, which is made up of markup tags for formatting text. \n",
    "\n",
    "You can change a cell from Code format to Markdown format by selecting \"Markdown\" from the dropdown menu above. \n",
    "\n",
    "**Exercise**: Try changing the next cell into Markdown format."
   ]
  },
  {
   "cell_type": "markdown",
   "metadata": {},
   "source": [
    "## Changing the next cell into Markdown \n",
    "\n",
    "### Interesting Shortcuts\n",
    "\n",
    "* H - Show Shortcuts\n",
    "* M - Change to Code into Mark Down\n",
    "* Y - Change Cell back to Code\n",
    "* B - Incert Cell Beneath\n",
    "* A - Incert Cell Aboth\n",
    "* I,I - Interrupt the kernel\n",
    "* 0,0 - Restart Kanel\n",
    "\n"
   ]
  },
  {
   "cell_type": "markdown",
   "metadata": {},
   "source": [
    "### Markdown Cheat Sheet\n",
    "\n",
    "[**Nice cheat sheet markdown**](https://github.com/adam-p/markdown-here/wiki/Markdown-Cheatsheet)\n",
    "\n"
   ]
  },
  {
   "cell_type": "markdown",
   "metadata": {},
   "source": [
    "Markdown is one way of adding comments to your code (more later) and the way we'll be setting up your exercises from now on. \n",
    "\n",
    "There are a variety of different tags to format text. See [here](https://github.com/adam-p/markdown-here/wiki/Markdown-Cheatsheet) for a cheat sheet on all the kinds of formatting you can do. "
   ]
  },
  {
   "cell_type": "markdown",
   "metadata": {},
   "source": [
    "**Exercise**: Make headings\n",
    "\n",
    "In the next cell try adding three different types of headings in Markdown mode"
   ]
  },
  {
   "cell_type": "markdown",
   "metadata": {},
   "source": [
    "---\n",
    "## Heading 1\n",
    "\n",
    "##### New Heading\n",
    "---"
   ]
  },
  {
   "cell_type": "markdown",
   "metadata": {},
   "source": [
    "**Exercise**: Try out other Markdown tags\n",
    "\n",
    "In the next cell try out two more markdown tags from the cheat sheet, of your choice. "
   ]
  },
  {
   "cell_type": "markdown",
   "metadata": {},
   "source": [
    "---\n",
    "\n",
    "## Trying out other Markdown tags\n",
    "\n",
    "### Starting with tables\n",
    "\n",
    "|Week | Number of exercises | Zoom particpants |\n",
    "|-----|:-------------------:| ----------------:|\n",
    "|1    | 3                   | 2                |\n",
    "|2    | 5                   | 5                |\n",
    "|4.   | 4                   | 3                |\n",
    "\n",
    "### Also nice Blockcodes\n",
    "\n",
    "> Blockcodes are easy ways to comment on code or maybe incert a nice graph\n",
    "\n",
    "> Also it is possible to divide notes from each other visusally\n",
    "\n",
    "\n",
    "---"
   ]
  },
  {
   "cell_type": "markdown",
   "metadata": {},
   "source": [
    "### 3.1.8. Search for the meaning of errors\n",
    "\n",
    "**Exercise**: Try running the code below. What happens? What does the error mean? See if you can find an answer online and explain what you found in the following cell. "
   ]
  },
  {
   "cell_type": "code",
   "execution_count": 5,
   "metadata": {
    "scrolled": true
   },
   "outputs": [
    {
     "ename": "NameError",
     "evalue": "name 'Print' is not defined",
     "output_type": "error",
     "traceback": [
      "\u001b[1;31m---------------------------------------------------------------------------\u001b[0m",
      "\u001b[1;31mNameError\u001b[0m                                 Traceback (most recent call last)",
      "\u001b[1;32m<ipython-input-5-d150bc9db7a2>\u001b[0m in \u001b[0;36m<module>\u001b[1;34m\u001b[0m\n\u001b[1;32m----> 1\u001b[1;33m \u001b[0mPrint\u001b[0m\u001b[1;33m(\u001b[0m\u001b[1;34m\"Hello world\"\u001b[0m\u001b[1;33m)\u001b[0m\u001b[1;33m\u001b[0m\u001b[1;33m\u001b[0m\u001b[0m\n\u001b[0m",
      "\u001b[1;31mNameError\u001b[0m: name 'Print' is not defined"
     ]
    }
   ],
   "source": [
    "Print(\"Hello world\")"
   ]
  },
  {
   "cell_type": "markdown",
   "metadata": {},
   "source": [
    "> The problem is that print is written in capital letters"
   ]
  },
  {
   "cell_type": "markdown",
   "metadata": {},
   "source": [
    "---\n",
    "Typing *Markdown* and LateX \n",
    "\n",
    "---\n",
    "\n",
    "*Markdown*\n",
    "\n",
    "---\n",
    "\n",
    "LateX $\\alpha$ $n^2$\n",
    "\n",
    "---\n",
    "\n"
   ]
  },
  {
   "cell_type": "markdown",
   "metadata": {},
   "source": [
    "### 3.1.9. Script Workflow\n",
    "\n",
    "**Exercise**: Choose an everyday activity (like making tea). Write a script workflow for that activity. See Chapter 2 in Brooker for a reminder of what is a Script Workflow. "
   ]
  },
  {
   "cell_type": "markdown",
   "metadata": {},
   "source": [
    "1. Is your code working\n",
    "    - If yes, proceed to step 2\n",
    "    - If no, proceed to step 3   \n",
    "2. Be happy, get a cupcake and go on \n",
    "3. Have you got a typo anywhere\n",
    "    - If yes, proceed to step 4\n",
    "    - If no, proceed to step 5\n",
    "4. Correct the typo  and go to step 2\n",
    "5. Can you google the error \n",
    "    - If yes, proceed to step 6\n",
    "    - If no, proceed to step 7\n",
    "6. Fix the error and go to step 2\n",
    "7. Ask somebody for help\n",
    "\n",
    "\n"
   ]
  },
  {
   "cell_type": "markdown",
   "metadata": {},
   "source": [
    "### 3.1.10. Daily Reflections"
   ]
  },
  {
   "cell_type": "markdown",
   "metadata": {},
   "source": [
    "**Exercise**: Take a moment to reflect on your learning experience today and take notes. You _can_ use these prompts to inspire your reflections: \n",
    "\n",
    "- What (if anything) did you take away from the lecture and exercise today? \n",
    "\n",
    "> The developments of computers users influences the wording and fuctions of a programming language. When something don´t seem logical maybe check what is behind this\n",
    "\n",
    "> Also prgoramming communities have different approches and sometimes tend to exclude beginners. Just ignoring it and maybe in the future search for a community with a higher acceptance\n",
    "\n",
    "- What concepts, ideas, or topics are still unclear? \n",
    "\n",
    "> Noting jet but I am sure that will change\n",
    "\n",
    "\n",
    "- What did you struggle with? What did you enjoy? What surprised you?\n",
    "\n",
    "> I enjoyed coding again\n",
    "\n",
    "> I sturggeld with making sublists for the workflows\n",
    "\n",
    "- Are there any things you would have wanted to spend less or more time on? What are they?\n",
    "\n",
    "> Maybe a bit more time discussing online ressources exept stackoverflow and google\n",
    "\n",
    "- Is there anything you have become inspired to follow up on from today's lecture and exercise? Anything you are looking forward to learning more about?\n",
    "\n",
    "> More about Jupiter Notebook. I have never used it but I am looking forward to \n",
    "\n",
    "> I also would learn more about the purpose of anaconda. How it manges packages etc.\n"
   ]
  },
  {
   "cell_type": "code",
   "execution_count": null,
   "metadata": {},
   "outputs": [],
   "source": []
  }
 ],
 "metadata": {
  "kernelspec": {
   "display_name": "Python 3",
   "language": "python",
   "name": "python3"
  },
  "language_info": {
   "codemirror_mode": {
    "name": "ipython",
    "version": 3
   },
   "file_extension": ".py",
   "mimetype": "text/x-python",
   "name": "python",
   "nbconvert_exporter": "python",
   "pygments_lexer": "ipython3",
   "version": "3.8.3"
  }
 },
 "nbformat": 4,
 "nbformat_minor": 2
}
