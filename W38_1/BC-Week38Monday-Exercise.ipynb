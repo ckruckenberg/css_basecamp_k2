{
 "cells": [
  {
   "cell_type": "markdown",
   "metadata": {},
   "source": [
    "# Exercise W3D1\n",
    "\n",
    "Welcome to your first exercise notebook! Today's exercises continue from the Word document. Most other days all your exercises will be all in a Notebook. "
   ]
  },
  {
   "cell_type": "markdown",
   "metadata": {},
   "source": [
    "### 3.1.7 Try out Jupyter Markdown\n",
    "\n",
    "This cell is written in markdown format, which is made up of markup tags for formatting text. \n",
    "\n",
    "You can change a cell from Code format to Markdown format by selecting \"Markdown\" from the dropdown menu above. \n",
    "\n",
    "**Exercise**: Try changing the next cell into Markdown format."
   ]
  },
  {
   "cell_type": "code",
   "execution_count": null,
   "metadata": {},
   "outputs": [],
   "source": []
  },
  {
   "cell_type": "markdown",
   "metadata": {},
   "source": [
    "Markdown is one way of adding comments to your code (more later) and the way we'll be setting up your exercises from now on. \n",
    "\n",
    "There are a variety of different tags to format text. See [here](https://github.com/adam-p/markdown-here/wiki/Markdown-Cheatsheet) for a cheat sheet on all the kinds of formatting you can do. "
   ]
  },
  {
   "cell_type": "markdown",
   "metadata": {},
   "source": [
    "**Exercise**: Make headings\n",
    "\n",
    "In the next cell try adding three different types of headings in Markdown mode"
   ]
  },
  {
   "cell_type": "code",
   "execution_count": null,
   "metadata": {},
   "outputs": [],
   "source": []
  },
  {
   "cell_type": "markdown",
   "metadata": {},
   "source": [
    "**Exercise**: Try out other Markdown tags\n",
    "\n",
    "In the next cell try out two more markdown tags from the cheat sheet, of your choice. "
   ]
  },
  {
   "cell_type": "code",
   "execution_count": null,
   "metadata": {},
   "outputs": [],
   "source": []
  },
  {
   "cell_type": "markdown",
   "metadata": {},
   "source": [
    "### 3.1.8. Search for the meaning of errors\n",
    "\n",
    "**Exercise**: Try running the code below. What happens? What does the error mean? See if you can find an answer online and explain what you found in the following cell. "
   ]
  },
  {
   "cell_type": "code",
   "execution_count": 5,
   "metadata": {},
   "outputs": [
    {
     "ename": "NameError",
     "evalue": "name 'Print' is not defined",
     "output_type": "error",
     "traceback": [
      "\u001b[1;31m---------------------------------------------------------------------------\u001b[0m",
      "\u001b[1;31mNameError\u001b[0m                                 Traceback (most recent call last)",
      "\u001b[1;32m<ipython-input-5-d150bc9db7a2>\u001b[0m in \u001b[0;36m<module>\u001b[1;34m\u001b[0m\n\u001b[1;32m----> 1\u001b[1;33m \u001b[0mPrint\u001b[0m\u001b[1;33m(\u001b[0m\u001b[1;34m\"Hello world\"\u001b[0m\u001b[1;33m)\u001b[0m\u001b[1;33m\u001b[0m\u001b[1;33m\u001b[0m\u001b[0m\n\u001b[0m",
      "\u001b[1;31mNameError\u001b[0m: name 'Print' is not defined"
     ]
    }
   ],
   "source": [
    "Print(\"Hello world\")"
   ]
  },
  {
   "cell_type": "markdown",
   "metadata": {},
   "source": []
  },
  {
   "cell_type": "markdown",
   "metadata": {},
   "source": [
    "### 3.1.9. Script Workflow\n",
    "\n",
    "**Exercise**: Choose an everyday activity (like making tea). Write a script workflow for that activity. See Chapter 2 in Brooker for a reminder of what is a Script Workflow. "
   ]
  },
  {
   "cell_type": "code",
   "execution_count": null,
   "metadata": {},
   "outputs": [],
   "source": []
  },
  {
   "cell_type": "markdown",
   "metadata": {},
   "source": [
    "### 3.1.10. Daily Reflections"
   ]
  },
  {
   "cell_type": "markdown",
   "metadata": {},
   "source": [
    "**Exercise**: Take a moment to reflect on your learning experience today and take notes. You _can_ use these prompts to inspire your reflections: \n",
    "\n",
    "- What (if anything) did you take away from the lecture and exercise today? \n",
    "- What concepts, ideas, or topics are still unclear? \n",
    "- What did you struggle with? What did you enjoy? What surprised you?\n",
    "- Are there any things you would have wanted to spend less or more time on? What are they?\n",
    "- Is there anything you have become inspired to follow up on from today's lecture and exercise? Anything you are looking forward to learning more about?"
   ]
  },
  {
   "cell_type": "markdown",
   "metadata": {},
   "source": []
  }
 ],
 "metadata": {
  "kernelspec": {
   "display_name": "Python 3",
   "language": "python",
   "name": "python3"
  },
  "language_info": {
   "codemirror_mode": {
    "name": "ipython",
    "version": 3
   },
   "file_extension": ".py",
   "mimetype": "text/x-python",
   "name": "python",
   "nbconvert_exporter": "python",
   "pygments_lexer": "ipython3",
   "version": "3.8.3"
  }
 },
 "nbformat": 4,
 "nbformat_minor": 2
}
